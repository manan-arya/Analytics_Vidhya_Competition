{
  "nbformat": 4,
  "nbformat_minor": 0,
  "metadata": {
    "colab": {
      "name": "Analytic_Vidya.ipynb",
      "version": "0.3.2",
      "provenance": []
    },
    "kernelspec": {
      "display_name": "Python 3",
      "language": "python",
      "name": "python3"
    },
    "accelerator": "GPU"
  },
  "cells": [
    {
      "metadata": {
        "id": "8nxs2Bk0H48S",
        "colab_type": "code",
        "colab": {}
      },
      "cell_type": "code",
      "source": [
        "import numpy as np\n",
        "import pandas as pd"
      ],
      "execution_count": 0,
      "outputs": []
    },
    {
      "metadata": {
        "id": "cQsK2SooIeb9",
        "colab_type": "code",
        "colab": {
          "base_uri": "https://localhost:8080/",
          "height": 391
        },
        "outputId": "10b66a8f-5154-4f5c-fa93-cfc4730ac6cd"
      },
      "cell_type": "code",
      "source": [
        "!wget https://raw.githubusercontent.com/manan-arya/Analytics_Vidhya_Competition/master/train_NIR5Yl1.csv\n",
        "!wget https://raw.githubusercontent.com/manan-arya/Analytics_Vidhya_Competition/master/test_8i3B3FC.csv"
      ],
      "execution_count": 7,
      "outputs": [
        {
          "output_type": "stream",
          "text": [
            "--2018-09-01 03:16:46--  https://raw.githubusercontent.com/manan-arya/Analytics_Vidhya_Competition/master/train_NIR5Yl1.csv\n",
            "Resolving raw.githubusercontent.com (raw.githubusercontent.com)... 151.101.0.133, 151.101.64.133, 151.101.128.133, ...\n",
            "Connecting to raw.githubusercontent.com (raw.githubusercontent.com)|151.101.0.133|:443... connected.\n",
            "HTTP request sent, awaiting response... 200 OK\n",
            "Length: 12564851 (12M) [text/plain]\n",
            "Saving to: ‘train_NIR5Yl1.csv’\n",
            "\n",
            "train_NIR5Yl1.csv   100%[===================>]  11.98M  26.1MB/s    in 0.5s    \n",
            "\n",
            "2018-09-01 03:16:46 (26.1 MB/s) - ‘train_NIR5Yl1.csv’ saved [12564851/12564851]\n",
            "\n",
            "--2018-09-01 03:16:47--  https://raw.githubusercontent.com/manan-arya/Analytics_Vidhya_Competition/master/test_8i3B3FC.csv\n",
            "Resolving raw.githubusercontent.com (raw.githubusercontent.com)... 151.101.0.133, 151.101.64.133, 151.101.128.133, ...\n",
            "Connecting to raw.githubusercontent.com (raw.githubusercontent.com)|151.101.0.133|:443... connected.\n",
            "HTTP request sent, awaiting response... 200 OK\n",
            "Length: 4673330 (4.5M) [text/plain]\n",
            "Saving to: ‘test_8i3B3FC.csv’\n",
            "\n",
            "test_8i3B3FC.csv    100%[===================>]   4.46M  11.1MB/s    in 0.4s    \n",
            "\n",
            "2018-09-01 03:16:48 (11.1 MB/s) - ‘test_8i3B3FC.csv’ saved [4673330/4673330]\n",
            "\n"
          ],
          "name": "stdout"
        }
      ]
    },
    {
      "metadata": {
        "id": "zJrh-Vj8H48v",
        "colab_type": "code",
        "colab": {}
      },
      "cell_type": "code",
      "source": [
        "data= pd.read_csv(\"train_NIR5Yl1.csv\")"
      ],
      "execution_count": 0,
      "outputs": []
    },
    {
      "metadata": {
        "id": "Ngu4QXRNH489",
        "colab_type": "code",
        "colab": {
          "base_uri": "https://localhost:8080/",
          "height": 204
        },
        "outputId": "6182cf35-6e6d-47bc-8b83-ab6dfbccfe38"
      },
      "cell_type": "code",
      "source": [
        "data.head()"
      ],
      "execution_count": 9,
      "outputs": [
        {
          "output_type": "execute_result",
          "data": {
            "text/html": [
              "<div>\n",
              "<style scoped>\n",
              "    .dataframe tbody tr th:only-of-type {\n",
              "        vertical-align: middle;\n",
              "    }\n",
              "\n",
              "    .dataframe tbody tr th {\n",
              "        vertical-align: top;\n",
              "    }\n",
              "\n",
              "    .dataframe thead th {\n",
              "        text-align: right;\n",
              "    }\n",
              "</style>\n",
              "<table border=\"1\" class=\"dataframe\">\n",
              "  <thead>\n",
              "    <tr style=\"text-align: right;\">\n",
              "      <th></th>\n",
              "      <th>ID</th>\n",
              "      <th>Tag</th>\n",
              "      <th>Reputation</th>\n",
              "      <th>Answers</th>\n",
              "      <th>Username</th>\n",
              "      <th>Views</th>\n",
              "      <th>Upvotes</th>\n",
              "    </tr>\n",
              "  </thead>\n",
              "  <tbody>\n",
              "    <tr>\n",
              "      <th>0</th>\n",
              "      <td>52664</td>\n",
              "      <td>a</td>\n",
              "      <td>3942.0</td>\n",
              "      <td>2.0</td>\n",
              "      <td>155623</td>\n",
              "      <td>7855.0</td>\n",
              "      <td>42.0</td>\n",
              "    </tr>\n",
              "    <tr>\n",
              "      <th>1</th>\n",
              "      <td>327662</td>\n",
              "      <td>a</td>\n",
              "      <td>26046.0</td>\n",
              "      <td>12.0</td>\n",
              "      <td>21781</td>\n",
              "      <td>55801.0</td>\n",
              "      <td>1175.0</td>\n",
              "    </tr>\n",
              "    <tr>\n",
              "      <th>2</th>\n",
              "      <td>468453</td>\n",
              "      <td>c</td>\n",
              "      <td>1358.0</td>\n",
              "      <td>4.0</td>\n",
              "      <td>56177</td>\n",
              "      <td>8067.0</td>\n",
              "      <td>60.0</td>\n",
              "    </tr>\n",
              "    <tr>\n",
              "      <th>3</th>\n",
              "      <td>96996</td>\n",
              "      <td>a</td>\n",
              "      <td>264.0</td>\n",
              "      <td>3.0</td>\n",
              "      <td>168793</td>\n",
              "      <td>27064.0</td>\n",
              "      <td>9.0</td>\n",
              "    </tr>\n",
              "    <tr>\n",
              "      <th>4</th>\n",
              "      <td>131465</td>\n",
              "      <td>c</td>\n",
              "      <td>4271.0</td>\n",
              "      <td>4.0</td>\n",
              "      <td>112223</td>\n",
              "      <td>13986.0</td>\n",
              "      <td>83.0</td>\n",
              "    </tr>\n",
              "  </tbody>\n",
              "</table>\n",
              "</div>"
            ],
            "text/plain": [
              "       ID Tag  Reputation  Answers  Username    Views  Upvotes\n",
              "0   52664   a      3942.0      2.0    155623   7855.0     42.0\n",
              "1  327662   a     26046.0     12.0     21781  55801.0   1175.0\n",
              "2  468453   c      1358.0      4.0     56177   8067.0     60.0\n",
              "3   96996   a       264.0      3.0    168793  27064.0      9.0\n",
              "4  131465   c      4271.0      4.0    112223  13986.0     83.0"
            ]
          },
          "metadata": {
            "tags": []
          },
          "execution_count": 9
        }
      ]
    },
    {
      "metadata": {
        "id": "eisxAHdUH49T",
        "colab_type": "code",
        "colab": {}
      },
      "cell_type": "code",
      "source": [
        "data.drop(\"ID\",axis =1,inplace=True)"
      ],
      "execution_count": 0,
      "outputs": []
    },
    {
      "metadata": {
        "id": "gctbbjZ_H49e",
        "colab_type": "code",
        "colab": {
          "base_uri": "https://localhost:8080/",
          "height": 204
        },
        "outputId": "907742c9-3b6a-48e7-9727-5985d8d7813c"
      },
      "cell_type": "code",
      "source": [
        "data.head()"
      ],
      "execution_count": 11,
      "outputs": [
        {
          "output_type": "execute_result",
          "data": {
            "text/html": [
              "<div>\n",
              "<style scoped>\n",
              "    .dataframe tbody tr th:only-of-type {\n",
              "        vertical-align: middle;\n",
              "    }\n",
              "\n",
              "    .dataframe tbody tr th {\n",
              "        vertical-align: top;\n",
              "    }\n",
              "\n",
              "    .dataframe thead th {\n",
              "        text-align: right;\n",
              "    }\n",
              "</style>\n",
              "<table border=\"1\" class=\"dataframe\">\n",
              "  <thead>\n",
              "    <tr style=\"text-align: right;\">\n",
              "      <th></th>\n",
              "      <th>Tag</th>\n",
              "      <th>Reputation</th>\n",
              "      <th>Answers</th>\n",
              "      <th>Username</th>\n",
              "      <th>Views</th>\n",
              "      <th>Upvotes</th>\n",
              "    </tr>\n",
              "  </thead>\n",
              "  <tbody>\n",
              "    <tr>\n",
              "      <th>0</th>\n",
              "      <td>a</td>\n",
              "      <td>3942.0</td>\n",
              "      <td>2.0</td>\n",
              "      <td>155623</td>\n",
              "      <td>7855.0</td>\n",
              "      <td>42.0</td>\n",
              "    </tr>\n",
              "    <tr>\n",
              "      <th>1</th>\n",
              "      <td>a</td>\n",
              "      <td>26046.0</td>\n",
              "      <td>12.0</td>\n",
              "      <td>21781</td>\n",
              "      <td>55801.0</td>\n",
              "      <td>1175.0</td>\n",
              "    </tr>\n",
              "    <tr>\n",
              "      <th>2</th>\n",
              "      <td>c</td>\n",
              "      <td>1358.0</td>\n",
              "      <td>4.0</td>\n",
              "      <td>56177</td>\n",
              "      <td>8067.0</td>\n",
              "      <td>60.0</td>\n",
              "    </tr>\n",
              "    <tr>\n",
              "      <th>3</th>\n",
              "      <td>a</td>\n",
              "      <td>264.0</td>\n",
              "      <td>3.0</td>\n",
              "      <td>168793</td>\n",
              "      <td>27064.0</td>\n",
              "      <td>9.0</td>\n",
              "    </tr>\n",
              "    <tr>\n",
              "      <th>4</th>\n",
              "      <td>c</td>\n",
              "      <td>4271.0</td>\n",
              "      <td>4.0</td>\n",
              "      <td>112223</td>\n",
              "      <td>13986.0</td>\n",
              "      <td>83.0</td>\n",
              "    </tr>\n",
              "  </tbody>\n",
              "</table>\n",
              "</div>"
            ],
            "text/plain": [
              "  Tag  Reputation  Answers  Username    Views  Upvotes\n",
              "0   a      3942.0      2.0    155623   7855.0     42.0\n",
              "1   a     26046.0     12.0     21781  55801.0   1175.0\n",
              "2   c      1358.0      4.0     56177   8067.0     60.0\n",
              "3   a       264.0      3.0    168793  27064.0      9.0\n",
              "4   c      4271.0      4.0    112223  13986.0     83.0"
            ]
          },
          "metadata": {
            "tags": []
          },
          "execution_count": 11
        }
      ]
    },
    {
      "metadata": {
        "id": "928zt4x3H493",
        "colab_type": "code",
        "colab": {
          "base_uri": "https://localhost:8080/",
          "height": 204
        },
        "outputId": "b7a19441-45e1-4319-baea-da43695b0690"
      },
      "cell_type": "code",
      "source": [
        "data_dummies=pd.get_dummies(data[\"Tag\"])\n",
        "data.head()"
      ],
      "execution_count": 12,
      "outputs": [
        {
          "output_type": "execute_result",
          "data": {
            "text/html": [
              "<div>\n",
              "<style scoped>\n",
              "    .dataframe tbody tr th:only-of-type {\n",
              "        vertical-align: middle;\n",
              "    }\n",
              "\n",
              "    .dataframe tbody tr th {\n",
              "        vertical-align: top;\n",
              "    }\n",
              "\n",
              "    .dataframe thead th {\n",
              "        text-align: right;\n",
              "    }\n",
              "</style>\n",
              "<table border=\"1\" class=\"dataframe\">\n",
              "  <thead>\n",
              "    <tr style=\"text-align: right;\">\n",
              "      <th></th>\n",
              "      <th>Tag</th>\n",
              "      <th>Reputation</th>\n",
              "      <th>Answers</th>\n",
              "      <th>Username</th>\n",
              "      <th>Views</th>\n",
              "      <th>Upvotes</th>\n",
              "    </tr>\n",
              "  </thead>\n",
              "  <tbody>\n",
              "    <tr>\n",
              "      <th>0</th>\n",
              "      <td>a</td>\n",
              "      <td>3942.0</td>\n",
              "      <td>2.0</td>\n",
              "      <td>155623</td>\n",
              "      <td>7855.0</td>\n",
              "      <td>42.0</td>\n",
              "    </tr>\n",
              "    <tr>\n",
              "      <th>1</th>\n",
              "      <td>a</td>\n",
              "      <td>26046.0</td>\n",
              "      <td>12.0</td>\n",
              "      <td>21781</td>\n",
              "      <td>55801.0</td>\n",
              "      <td>1175.0</td>\n",
              "    </tr>\n",
              "    <tr>\n",
              "      <th>2</th>\n",
              "      <td>c</td>\n",
              "      <td>1358.0</td>\n",
              "      <td>4.0</td>\n",
              "      <td>56177</td>\n",
              "      <td>8067.0</td>\n",
              "      <td>60.0</td>\n",
              "    </tr>\n",
              "    <tr>\n",
              "      <th>3</th>\n",
              "      <td>a</td>\n",
              "      <td>264.0</td>\n",
              "      <td>3.0</td>\n",
              "      <td>168793</td>\n",
              "      <td>27064.0</td>\n",
              "      <td>9.0</td>\n",
              "    </tr>\n",
              "    <tr>\n",
              "      <th>4</th>\n",
              "      <td>c</td>\n",
              "      <td>4271.0</td>\n",
              "      <td>4.0</td>\n",
              "      <td>112223</td>\n",
              "      <td>13986.0</td>\n",
              "      <td>83.0</td>\n",
              "    </tr>\n",
              "  </tbody>\n",
              "</table>\n",
              "</div>"
            ],
            "text/plain": [
              "  Tag  Reputation  Answers  Username    Views  Upvotes\n",
              "0   a      3942.0      2.0    155623   7855.0     42.0\n",
              "1   a     26046.0     12.0     21781  55801.0   1175.0\n",
              "2   c      1358.0      4.0     56177   8067.0     60.0\n",
              "3   a       264.0      3.0    168793  27064.0      9.0\n",
              "4   c      4271.0      4.0    112223  13986.0     83.0"
            ]
          },
          "metadata": {
            "tags": []
          },
          "execution_count": 12
        }
      ]
    },
    {
      "metadata": {
        "id": "IDWzsP0LH4-F",
        "colab_type": "code",
        "colab": {
          "base_uri": "https://localhost:8080/",
          "height": 204
        },
        "outputId": "47c595aa-a23f-45e8-9237-48c607db6d81"
      },
      "cell_type": "code",
      "source": [
        "data = pd.concat([data,pd.get_dummies(data['Tag'], drop_first=True)], axis=1); data.head()"
      ],
      "execution_count": 13,
      "outputs": [
        {
          "output_type": "execute_result",
          "data": {
            "text/html": [
              "<div>\n",
              "<style scoped>\n",
              "    .dataframe tbody tr th:only-of-type {\n",
              "        vertical-align: middle;\n",
              "    }\n",
              "\n",
              "    .dataframe tbody tr th {\n",
              "        vertical-align: top;\n",
              "    }\n",
              "\n",
              "    .dataframe thead th {\n",
              "        text-align: right;\n",
              "    }\n",
              "</style>\n",
              "<table border=\"1\" class=\"dataframe\">\n",
              "  <thead>\n",
              "    <tr style=\"text-align: right;\">\n",
              "      <th></th>\n",
              "      <th>Tag</th>\n",
              "      <th>Reputation</th>\n",
              "      <th>Answers</th>\n",
              "      <th>Username</th>\n",
              "      <th>Views</th>\n",
              "      <th>Upvotes</th>\n",
              "      <th>c</th>\n",
              "      <th>h</th>\n",
              "      <th>i</th>\n",
              "      <th>j</th>\n",
              "      <th>o</th>\n",
              "      <th>p</th>\n",
              "      <th>r</th>\n",
              "      <th>s</th>\n",
              "      <th>x</th>\n",
              "    </tr>\n",
              "  </thead>\n",
              "  <tbody>\n",
              "    <tr>\n",
              "      <th>0</th>\n",
              "      <td>a</td>\n",
              "      <td>3942.0</td>\n",
              "      <td>2.0</td>\n",
              "      <td>155623</td>\n",
              "      <td>7855.0</td>\n",
              "      <td>42.0</td>\n",
              "      <td>0</td>\n",
              "      <td>0</td>\n",
              "      <td>0</td>\n",
              "      <td>0</td>\n",
              "      <td>0</td>\n",
              "      <td>0</td>\n",
              "      <td>0</td>\n",
              "      <td>0</td>\n",
              "      <td>0</td>\n",
              "    </tr>\n",
              "    <tr>\n",
              "      <th>1</th>\n",
              "      <td>a</td>\n",
              "      <td>26046.0</td>\n",
              "      <td>12.0</td>\n",
              "      <td>21781</td>\n",
              "      <td>55801.0</td>\n",
              "      <td>1175.0</td>\n",
              "      <td>0</td>\n",
              "      <td>0</td>\n",
              "      <td>0</td>\n",
              "      <td>0</td>\n",
              "      <td>0</td>\n",
              "      <td>0</td>\n",
              "      <td>0</td>\n",
              "      <td>0</td>\n",
              "      <td>0</td>\n",
              "    </tr>\n",
              "    <tr>\n",
              "      <th>2</th>\n",
              "      <td>c</td>\n",
              "      <td>1358.0</td>\n",
              "      <td>4.0</td>\n",
              "      <td>56177</td>\n",
              "      <td>8067.0</td>\n",
              "      <td>60.0</td>\n",
              "      <td>1</td>\n",
              "      <td>0</td>\n",
              "      <td>0</td>\n",
              "      <td>0</td>\n",
              "      <td>0</td>\n",
              "      <td>0</td>\n",
              "      <td>0</td>\n",
              "      <td>0</td>\n",
              "      <td>0</td>\n",
              "    </tr>\n",
              "    <tr>\n",
              "      <th>3</th>\n",
              "      <td>a</td>\n",
              "      <td>264.0</td>\n",
              "      <td>3.0</td>\n",
              "      <td>168793</td>\n",
              "      <td>27064.0</td>\n",
              "      <td>9.0</td>\n",
              "      <td>0</td>\n",
              "      <td>0</td>\n",
              "      <td>0</td>\n",
              "      <td>0</td>\n",
              "      <td>0</td>\n",
              "      <td>0</td>\n",
              "      <td>0</td>\n",
              "      <td>0</td>\n",
              "      <td>0</td>\n",
              "    </tr>\n",
              "    <tr>\n",
              "      <th>4</th>\n",
              "      <td>c</td>\n",
              "      <td>4271.0</td>\n",
              "      <td>4.0</td>\n",
              "      <td>112223</td>\n",
              "      <td>13986.0</td>\n",
              "      <td>83.0</td>\n",
              "      <td>1</td>\n",
              "      <td>0</td>\n",
              "      <td>0</td>\n",
              "      <td>0</td>\n",
              "      <td>0</td>\n",
              "      <td>0</td>\n",
              "      <td>0</td>\n",
              "      <td>0</td>\n",
              "      <td>0</td>\n",
              "    </tr>\n",
              "  </tbody>\n",
              "</table>\n",
              "</div>"
            ],
            "text/plain": [
              "  Tag  Reputation  Answers  Username    Views  Upvotes  c  h  i  j  o  p  r  \\\n",
              "0   a      3942.0      2.0    155623   7855.0     42.0  0  0  0  0  0  0  0   \n",
              "1   a     26046.0     12.0     21781  55801.0   1175.0  0  0  0  0  0  0  0   \n",
              "2   c      1358.0      4.0     56177   8067.0     60.0  1  0  0  0  0  0  0   \n",
              "3   a       264.0      3.0    168793  27064.0      9.0  0  0  0  0  0  0  0   \n",
              "4   c      4271.0      4.0    112223  13986.0     83.0  1  0  0  0  0  0  0   \n",
              "\n",
              "   s  x  \n",
              "0  0  0  \n",
              "1  0  0  \n",
              "2  0  0  \n",
              "3  0  0  \n",
              "4  0  0  "
            ]
          },
          "metadata": {
            "tags": []
          },
          "execution_count": 13
        }
      ]
    },
    {
      "metadata": {
        "id": "rGS-Ggc2H4-S",
        "colab_type": "code",
        "colab": {}
      },
      "cell_type": "code",
      "source": [
        "data.drop(\"Tag\",axis=1,inplace=True)"
      ],
      "execution_count": 0,
      "outputs": []
    },
    {
      "metadata": {
        "id": "wdQnAGybH4-b",
        "colab_type": "code",
        "colab": {
          "base_uri": "https://localhost:8080/",
          "height": 204
        },
        "outputId": "50e5eda1-94da-4432-a9f5-4f34a9d1c1eb"
      },
      "cell_type": "code",
      "source": [
        "data.head()"
      ],
      "execution_count": 15,
      "outputs": [
        {
          "output_type": "execute_result",
          "data": {
            "text/html": [
              "<div>\n",
              "<style scoped>\n",
              "    .dataframe tbody tr th:only-of-type {\n",
              "        vertical-align: middle;\n",
              "    }\n",
              "\n",
              "    .dataframe tbody tr th {\n",
              "        vertical-align: top;\n",
              "    }\n",
              "\n",
              "    .dataframe thead th {\n",
              "        text-align: right;\n",
              "    }\n",
              "</style>\n",
              "<table border=\"1\" class=\"dataframe\">\n",
              "  <thead>\n",
              "    <tr style=\"text-align: right;\">\n",
              "      <th></th>\n",
              "      <th>Reputation</th>\n",
              "      <th>Answers</th>\n",
              "      <th>Username</th>\n",
              "      <th>Views</th>\n",
              "      <th>Upvotes</th>\n",
              "      <th>c</th>\n",
              "      <th>h</th>\n",
              "      <th>i</th>\n",
              "      <th>j</th>\n",
              "      <th>o</th>\n",
              "      <th>p</th>\n",
              "      <th>r</th>\n",
              "      <th>s</th>\n",
              "      <th>x</th>\n",
              "    </tr>\n",
              "  </thead>\n",
              "  <tbody>\n",
              "    <tr>\n",
              "      <th>0</th>\n",
              "      <td>3942.0</td>\n",
              "      <td>2.0</td>\n",
              "      <td>155623</td>\n",
              "      <td>7855.0</td>\n",
              "      <td>42.0</td>\n",
              "      <td>0</td>\n",
              "      <td>0</td>\n",
              "      <td>0</td>\n",
              "      <td>0</td>\n",
              "      <td>0</td>\n",
              "      <td>0</td>\n",
              "      <td>0</td>\n",
              "      <td>0</td>\n",
              "      <td>0</td>\n",
              "    </tr>\n",
              "    <tr>\n",
              "      <th>1</th>\n",
              "      <td>26046.0</td>\n",
              "      <td>12.0</td>\n",
              "      <td>21781</td>\n",
              "      <td>55801.0</td>\n",
              "      <td>1175.0</td>\n",
              "      <td>0</td>\n",
              "      <td>0</td>\n",
              "      <td>0</td>\n",
              "      <td>0</td>\n",
              "      <td>0</td>\n",
              "      <td>0</td>\n",
              "      <td>0</td>\n",
              "      <td>0</td>\n",
              "      <td>0</td>\n",
              "    </tr>\n",
              "    <tr>\n",
              "      <th>2</th>\n",
              "      <td>1358.0</td>\n",
              "      <td>4.0</td>\n",
              "      <td>56177</td>\n",
              "      <td>8067.0</td>\n",
              "      <td>60.0</td>\n",
              "      <td>1</td>\n",
              "      <td>0</td>\n",
              "      <td>0</td>\n",
              "      <td>0</td>\n",
              "      <td>0</td>\n",
              "      <td>0</td>\n",
              "      <td>0</td>\n",
              "      <td>0</td>\n",
              "      <td>0</td>\n",
              "    </tr>\n",
              "    <tr>\n",
              "      <th>3</th>\n",
              "      <td>264.0</td>\n",
              "      <td>3.0</td>\n",
              "      <td>168793</td>\n",
              "      <td>27064.0</td>\n",
              "      <td>9.0</td>\n",
              "      <td>0</td>\n",
              "      <td>0</td>\n",
              "      <td>0</td>\n",
              "      <td>0</td>\n",
              "      <td>0</td>\n",
              "      <td>0</td>\n",
              "      <td>0</td>\n",
              "      <td>0</td>\n",
              "      <td>0</td>\n",
              "    </tr>\n",
              "    <tr>\n",
              "      <th>4</th>\n",
              "      <td>4271.0</td>\n",
              "      <td>4.0</td>\n",
              "      <td>112223</td>\n",
              "      <td>13986.0</td>\n",
              "      <td>83.0</td>\n",
              "      <td>1</td>\n",
              "      <td>0</td>\n",
              "      <td>0</td>\n",
              "      <td>0</td>\n",
              "      <td>0</td>\n",
              "      <td>0</td>\n",
              "      <td>0</td>\n",
              "      <td>0</td>\n",
              "      <td>0</td>\n",
              "    </tr>\n",
              "  </tbody>\n",
              "</table>\n",
              "</div>"
            ],
            "text/plain": [
              "   Reputation  Answers  Username    Views  Upvotes  c  h  i  j  o  p  r  s  x\n",
              "0      3942.0      2.0    155623   7855.0     42.0  0  0  0  0  0  0  0  0  0\n",
              "1     26046.0     12.0     21781  55801.0   1175.0  0  0  0  0  0  0  0  0  0\n",
              "2      1358.0      4.0     56177   8067.0     60.0  1  0  0  0  0  0  0  0  0\n",
              "3       264.0      3.0    168793  27064.0      9.0  0  0  0  0  0  0  0  0  0\n",
              "4      4271.0      4.0    112223  13986.0     83.0  1  0  0  0  0  0  0  0  0"
            ]
          },
          "metadata": {
            "tags": []
          },
          "execution_count": 15
        }
      ]
    },
    {
      "metadata": {
        "id": "Ed-E3UFSH4-u",
        "colab_type": "code",
        "colab": {}
      },
      "cell_type": "code",
      "source": [
        "from sklearn.model_selection import train_test_split"
      ],
      "execution_count": 0,
      "outputs": []
    },
    {
      "metadata": {
        "id": "g67XQIaVH4-_",
        "colab_type": "code",
        "colab": {}
      },
      "cell_type": "code",
      "source": [
        "X = data.drop('Upvotes', axis=1)\n",
        "y = data['Upvotes']"
      ],
      "execution_count": 0,
      "outputs": []
    },
    {
      "metadata": {
        "id": "LhFF95BnH4_K",
        "colab_type": "code",
        "colab": {}
      },
      "cell_type": "code",
      "source": [
        "X_train,X_test,y_train,y_test=train_test_split(X,y,test_size=0.1,random_state=69)"
      ],
      "execution_count": 0,
      "outputs": []
    },
    {
      "metadata": {
        "id": "J_OgX7C0H4_T",
        "colab_type": "code",
        "colab": {
          "base_uri": "https://localhost:8080/",
          "height": 85
        },
        "outputId": "018c3106-372a-4d1b-c353-f6407aed11b4"
      },
      "cell_type": "code",
      "source": [
        "print(X_train.shape)\n",
        "print(y_train.shape)\n",
        "print(X_test.shape)\n",
        "print(y_test.shape)"
      ],
      "execution_count": 19,
      "outputs": [
        {
          "output_type": "stream",
          "text": [
            "(297040, 13)\n",
            "(297040,)\n",
            "(33005, 13)\n",
            "(33005,)\n"
          ],
          "name": "stdout"
        }
      ]
    },
    {
      "metadata": {
        "id": "_zOujTg6H4_f",
        "colab_type": "code",
        "colab": {}
      },
      "cell_type": "code",
      "source": [
        "import xgboost as xgb\n",
        "\n",
        "xg_reg=xgb.XGBRegressor(objective='reg:linear',n_estimators=10,seed=150)\n",
        "xg_reg.fit(X_train,y_train)\n",
        "preds=xg_reg.predict(X_test)"
      ],
      "execution_count": 0,
      "outputs": []
    },
    {
      "metadata": {
        "id": "BYkisb7XH4_q",
        "colab_type": "code",
        "colab": {}
      },
      "cell_type": "code",
      "source": [
        "from sklearn.metrics import mean_squared_error\n",
        "rmse=np.sqrt(mean_squared_error(y_test,preds))"
      ],
      "execution_count": 0,
      "outputs": []
    },
    {
      "metadata": {
        "id": "5j0ssT10H4_3",
        "colab_type": "code",
        "colab": {
          "base_uri": "https://localhost:8080/",
          "height": 34
        },
        "outputId": "ac76e5b0-55e1-4b51-9e4f-718ac028d505"
      },
      "cell_type": "code",
      "source": [
        "print(\"RMSE : %f\"% (rmse))"
      ],
      "execution_count": 22,
      "outputs": [
        {
          "output_type": "stream",
          "text": [
            "RMSE : 2276.641399\n"
          ],
          "name": "stdout"
        }
      ]
    },
    {
      "metadata": {
        "id": "OoMsoSp7H5Ab",
        "colab_type": "code",
        "colab": {
          "base_uri": "https://localhost:8080/",
          "height": 34
        },
        "outputId": "57a6cace-7660-4c62-c1b9-3d1eb9e9885e"
      },
      "cell_type": "code",
      "source": [
        "#tuning and boosting of xg boost\n",
        "\n",
        "DM_train = xgb.DMatrix(data=X_train,label=y_train)\n",
        "DM_test = xgb.DMatrix(data=X_test,label=y_test)\n",
        "params = {\"booster\":\"gblinear\",\"objective\":\"reg:linear\"}\n",
        "xg_reg=xgb.train(params=params,dtrain=DM_train,num_boost_round=10)\n",
        "\n",
        "preds_2=xg_reg.predict(DM_test)\n",
        "\n",
        "rmse_2=np.sqrt(mean_squared_error(y_test,preds_2))\n",
        "\n",
        "print(\"new RMSE= %f\" %rmse_2)\n"
      ],
      "execution_count": 23,
      "outputs": [
        {
          "output_type": "stream",
          "text": [
            "new RMSE= 3296.124775\n"
          ],
          "name": "stdout"
        }
      ]
    },
    {
      "metadata": {
        "id": "f-MQfA9cH5Aq",
        "colab_type": "code",
        "colab": {
          "base_uri": "https://localhost:8080/",
          "height": 34
        },
        "outputId": "32abea0c-e20e-433a-b78c-4122fb32632b"
      },
      "cell_type": "code",
      "source": [
        "rmse"
      ],
      "execution_count": 24,
      "outputs": [
        {
          "output_type": "execute_result",
          "data": {
            "text/plain": [
              "2276.6413991351656"
            ]
          },
          "metadata": {
            "tags": []
          },
          "execution_count": 24
        }
      ]
    },
    {
      "metadata": {
        "id": "rbf6SphBH5BE",
        "colab_type": "code",
        "colab": {
          "base_uri": "https://localhost:8080/",
          "height": 34
        },
        "outputId": "52a9d7f0-26fb-4b5e-92c2-96bb7d30ce67"
      },
      "cell_type": "code",
      "source": [
        "rmse_2"
      ],
      "execution_count": 25,
      "outputs": [
        {
          "output_type": "execute_result",
          "data": {
            "text/plain": [
              "3296.12477505686"
            ]
          },
          "metadata": {
            "tags": []
          },
          "execution_count": 25
        }
      ]
    },
    {
      "metadata": {
        "id": "IPtsao6rH5Bn",
        "colab_type": "text"
      },
      "cell_type": "markdown",
      "source": [
        "### Trying to apply grid search cv"
      ]
    },
    {
      "metadata": {
        "id": "k3iVNbFiIK5o",
        "colab_type": "code",
        "colab": {
          "base_uri": "https://localhost:8080/",
          "height": 1734
        },
        "outputId": "4b72efcc-da4b-40c1-c3bb-8c57e25335f3"
      },
      "cell_type": "code",
      "source": [
        "from sklearn.model_selection import GridSearchCV\n",
        "from sklearn.pipeline import Pipeline\n",
        "\n",
        "\n",
        "steps = [('clf', xgb.XGBRegressor())]\n",
        "\n",
        "\n",
        "clf_param_grid = {\n",
        "    'clf__max_depth' : [5,10,20],\n",
        "    'clf__learning_rate' : [0.1,0.01],\n",
        "    'clf__n_jobs' : [4],\n",
        "    'clf__n_estimators' : [50, 100,]\n",
        "    \n",
        "}\n",
        "\n",
        "\n",
        "xgbclf = Pipeline(steps)\n",
        "\n",
        "X_new = X.copy()\n",
        "# X_new.drop('ID',axis=1,inplace=True)\n",
        "estimator = GridSearchCV(xgbclf, param_grid=clf_param_grid ,cv =4, verbose=2, scoring=\"neg_mean_squared_error\")\n",
        "estimator.fit(X_new,y)\n",
        "\n",
        "print(estimator.best_params_)\n",
        "print(np.sqrt(-1*estimator.best_score_))"
      ],
      "execution_count": 26,
      "outputs": [
        {
          "output_type": "stream",
          "text": [
            "Fitting 4 folds for each of 12 candidates, totalling 48 fits\n",
            "[CV] clf__learning_rate=0.1, clf__max_depth=5, clf__n_estimators=50, clf__n_jobs=4 \n",
            "[CV]  clf__learning_rate=0.1, clf__max_depth=5, clf__n_estimators=50, clf__n_jobs=4, total=   8.1s\n",
            "[CV] clf__learning_rate=0.1, clf__max_depth=5, clf__n_estimators=50, clf__n_jobs=4 \n"
          ],
          "name": "stdout"
        },
        {
          "output_type": "stream",
          "text": [
            "[Parallel(n_jobs=1)]: Done   1 out of   1 | elapsed:    8.4s remaining:    0.0s\n"
          ],
          "name": "stderr"
        },
        {
          "output_type": "stream",
          "text": [
            "[CV]  clf__learning_rate=0.1, clf__max_depth=5, clf__n_estimators=50, clf__n_jobs=4, total=   8.1s\n",
            "[CV] clf__learning_rate=0.1, clf__max_depth=5, clf__n_estimators=50, clf__n_jobs=4 \n",
            "[CV]  clf__learning_rate=0.1, clf__max_depth=5, clf__n_estimators=50, clf__n_jobs=4, total=   8.1s\n",
            "[CV] clf__learning_rate=0.1, clf__max_depth=5, clf__n_estimators=50, clf__n_jobs=4 \n",
            "[CV]  clf__learning_rate=0.1, clf__max_depth=5, clf__n_estimators=50, clf__n_jobs=4, total=   8.0s\n",
            "[CV] clf__learning_rate=0.1, clf__max_depth=5, clf__n_estimators=100, clf__n_jobs=4 \n",
            "[CV]  clf__learning_rate=0.1, clf__max_depth=5, clf__n_estimators=100, clf__n_jobs=4, total=  16.0s\n",
            "[CV] clf__learning_rate=0.1, clf__max_depth=5, clf__n_estimators=100, clf__n_jobs=4 \n",
            "[CV]  clf__learning_rate=0.1, clf__max_depth=5, clf__n_estimators=100, clf__n_jobs=4, total=  16.0s\n",
            "[CV] clf__learning_rate=0.1, clf__max_depth=5, clf__n_estimators=100, clf__n_jobs=4 \n",
            "[CV]  clf__learning_rate=0.1, clf__max_depth=5, clf__n_estimators=100, clf__n_jobs=4, total=  15.9s\n",
            "[CV] clf__learning_rate=0.1, clf__max_depth=5, clf__n_estimators=100, clf__n_jobs=4 \n",
            "[CV]  clf__learning_rate=0.1, clf__max_depth=5, clf__n_estimators=100, clf__n_jobs=4, total=  15.9s\n",
            "[CV] clf__learning_rate=0.1, clf__max_depth=10, clf__n_estimators=50, clf__n_jobs=4 \n",
            "[CV]  clf__learning_rate=0.1, clf__max_depth=10, clf__n_estimators=50, clf__n_jobs=4, total=  16.6s\n",
            "[CV] clf__learning_rate=0.1, clf__max_depth=10, clf__n_estimators=50, clf__n_jobs=4 \n",
            "[CV]  clf__learning_rate=0.1, clf__max_depth=10, clf__n_estimators=50, clf__n_jobs=4, total=  16.5s\n",
            "[CV] clf__learning_rate=0.1, clf__max_depth=10, clf__n_estimators=50, clf__n_jobs=4 \n",
            "[CV]  clf__learning_rate=0.1, clf__max_depth=10, clf__n_estimators=50, clf__n_jobs=4, total=  15.9s\n",
            "[CV] clf__learning_rate=0.1, clf__max_depth=10, clf__n_estimators=50, clf__n_jobs=4 \n",
            "[CV]  clf__learning_rate=0.1, clf__max_depth=10, clf__n_estimators=50, clf__n_jobs=4, total=  16.9s\n",
            "[CV] clf__learning_rate=0.1, clf__max_depth=10, clf__n_estimators=100, clf__n_jobs=4 \n",
            "[CV]  clf__learning_rate=0.1, clf__max_depth=10, clf__n_estimators=100, clf__n_jobs=4, total=  32.6s\n",
            "[CV] clf__learning_rate=0.1, clf__max_depth=10, clf__n_estimators=100, clf__n_jobs=4 \n",
            "[CV]  clf__learning_rate=0.1, clf__max_depth=10, clf__n_estimators=100, clf__n_jobs=4, total=  32.2s\n",
            "[CV] clf__learning_rate=0.1, clf__max_depth=10, clf__n_estimators=100, clf__n_jobs=4 \n",
            "[CV]  clf__learning_rate=0.1, clf__max_depth=10, clf__n_estimators=100, clf__n_jobs=4, total=  33.2s\n",
            "[CV] clf__learning_rate=0.1, clf__max_depth=10, clf__n_estimators=100, clf__n_jobs=4 \n",
            "[CV]  clf__learning_rate=0.1, clf__max_depth=10, clf__n_estimators=100, clf__n_jobs=4, total=  35.2s\n",
            "[CV] clf__learning_rate=0.1, clf__max_depth=20, clf__n_estimators=50, clf__n_jobs=4 \n",
            "[CV]  clf__learning_rate=0.1, clf__max_depth=20, clf__n_estimators=50, clf__n_jobs=4, total=  44.8s\n",
            "[CV] clf__learning_rate=0.1, clf__max_depth=20, clf__n_estimators=50, clf__n_jobs=4 \n",
            "[CV]  clf__learning_rate=0.1, clf__max_depth=20, clf__n_estimators=50, clf__n_jobs=4, total=  45.1s\n",
            "[CV] clf__learning_rate=0.1, clf__max_depth=20, clf__n_estimators=50, clf__n_jobs=4 \n",
            "[CV]  clf__learning_rate=0.1, clf__max_depth=20, clf__n_estimators=50, clf__n_jobs=4, total=  45.0s\n",
            "[CV] clf__learning_rate=0.1, clf__max_depth=20, clf__n_estimators=50, clf__n_jobs=4 \n",
            "[CV]  clf__learning_rate=0.1, clf__max_depth=20, clf__n_estimators=50, clf__n_jobs=4, total=  46.0s\n",
            "[CV] clf__learning_rate=0.1, clf__max_depth=20, clf__n_estimators=100, clf__n_jobs=4 \n",
            "[CV]  clf__learning_rate=0.1, clf__max_depth=20, clf__n_estimators=100, clf__n_jobs=4, total= 1.4min\n",
            "[CV] clf__learning_rate=0.1, clf__max_depth=20, clf__n_estimators=100, clf__n_jobs=4 \n",
            "[CV]  clf__learning_rate=0.1, clf__max_depth=20, clf__n_estimators=100, clf__n_jobs=4, total= 1.4min\n",
            "[CV] clf__learning_rate=0.1, clf__max_depth=20, clf__n_estimators=100, clf__n_jobs=4 \n",
            "[CV]  clf__learning_rate=0.1, clf__max_depth=20, clf__n_estimators=100, clf__n_jobs=4, total= 1.3min\n",
            "[CV] clf__learning_rate=0.1, clf__max_depth=20, clf__n_estimators=100, clf__n_jobs=4 \n",
            "[CV]  clf__learning_rate=0.1, clf__max_depth=20, clf__n_estimators=100, clf__n_jobs=4, total= 1.3min\n",
            "[CV] clf__learning_rate=0.01, clf__max_depth=5, clf__n_estimators=50, clf__n_jobs=4 \n",
            "[CV]  clf__learning_rate=0.01, clf__max_depth=5, clf__n_estimators=50, clf__n_jobs=4, total=   8.1s\n",
            "[CV] clf__learning_rate=0.01, clf__max_depth=5, clf__n_estimators=50, clf__n_jobs=4 \n",
            "[CV]  clf__learning_rate=0.01, clf__max_depth=5, clf__n_estimators=50, clf__n_jobs=4, total=   8.1s\n",
            "[CV] clf__learning_rate=0.01, clf__max_depth=5, clf__n_estimators=50, clf__n_jobs=4 \n",
            "[CV]  clf__learning_rate=0.01, clf__max_depth=5, clf__n_estimators=50, clf__n_jobs=4, total=   8.1s\n",
            "[CV] clf__learning_rate=0.01, clf__max_depth=5, clf__n_estimators=50, clf__n_jobs=4 \n",
            "[CV]  clf__learning_rate=0.01, clf__max_depth=5, clf__n_estimators=50, clf__n_jobs=4, total=   8.2s\n",
            "[CV] clf__learning_rate=0.01, clf__max_depth=5, clf__n_estimators=100, clf__n_jobs=4 \n",
            "[CV]  clf__learning_rate=0.01, clf__max_depth=5, clf__n_estimators=100, clf__n_jobs=4, total=  16.2s\n",
            "[CV] clf__learning_rate=0.01, clf__max_depth=5, clf__n_estimators=100, clf__n_jobs=4 \n",
            "[CV]  clf__learning_rate=0.01, clf__max_depth=5, clf__n_estimators=100, clf__n_jobs=4, total=  16.1s\n",
            "[CV] clf__learning_rate=0.01, clf__max_depth=5, clf__n_estimators=100, clf__n_jobs=4 \n",
            "[CV]  clf__learning_rate=0.01, clf__max_depth=5, clf__n_estimators=100, clf__n_jobs=4, total=  16.1s\n",
            "[CV] clf__learning_rate=0.01, clf__max_depth=5, clf__n_estimators=100, clf__n_jobs=4 \n",
            "[CV]  clf__learning_rate=0.01, clf__max_depth=5, clf__n_estimators=100, clf__n_jobs=4, total=  16.2s\n",
            "[CV] clf__learning_rate=0.01, clf__max_depth=10, clf__n_estimators=50, clf__n_jobs=4 \n",
            "[CV]  clf__learning_rate=0.01, clf__max_depth=10, clf__n_estimators=50, clf__n_jobs=4, total=  17.1s\n",
            "[CV] clf__learning_rate=0.01, clf__max_depth=10, clf__n_estimators=50, clf__n_jobs=4 \n",
            "[CV]  clf__learning_rate=0.01, clf__max_depth=10, clf__n_estimators=50, clf__n_jobs=4, total=  17.2s\n",
            "[CV] clf__learning_rate=0.01, clf__max_depth=10, clf__n_estimators=50, clf__n_jobs=4 \n",
            "[CV]  clf__learning_rate=0.01, clf__max_depth=10, clf__n_estimators=50, clf__n_jobs=4, total=  17.2s\n",
            "[CV] clf__learning_rate=0.01, clf__max_depth=10, clf__n_estimators=50, clf__n_jobs=4 \n",
            "[CV]  clf__learning_rate=0.01, clf__max_depth=10, clf__n_estimators=50, clf__n_jobs=4, total=  17.2s\n",
            "[CV] clf__learning_rate=0.01, clf__max_depth=10, clf__n_estimators=100, clf__n_jobs=4 \n",
            "[CV]  clf__learning_rate=0.01, clf__max_depth=10, clf__n_estimators=100, clf__n_jobs=4, total=  34.0s\n",
            "[CV] clf__learning_rate=0.01, clf__max_depth=10, clf__n_estimators=100, clf__n_jobs=4 \n",
            "[CV]  clf__learning_rate=0.01, clf__max_depth=10, clf__n_estimators=100, clf__n_jobs=4, total=  34.5s\n",
            "[CV] clf__learning_rate=0.01, clf__max_depth=10, clf__n_estimators=100, clf__n_jobs=4 \n",
            "[CV]  clf__learning_rate=0.01, clf__max_depth=10, clf__n_estimators=100, clf__n_jobs=4, total=  34.4s\n",
            "[CV] clf__learning_rate=0.01, clf__max_depth=10, clf__n_estimators=100, clf__n_jobs=4 \n",
            "[CV]  clf__learning_rate=0.01, clf__max_depth=10, clf__n_estimators=100, clf__n_jobs=4, total=  34.7s\n",
            "[CV] clf__learning_rate=0.01, clf__max_depth=20, clf__n_estimators=50, clf__n_jobs=4 \n",
            "[CV]  clf__learning_rate=0.01, clf__max_depth=20, clf__n_estimators=50, clf__n_jobs=4, total=  42.7s\n",
            "[CV] clf__learning_rate=0.01, clf__max_depth=20, clf__n_estimators=50, clf__n_jobs=4 \n",
            "[CV]  clf__learning_rate=0.01, clf__max_depth=20, clf__n_estimators=50, clf__n_jobs=4, total=  42.5s\n",
            "[CV] clf__learning_rate=0.01, clf__max_depth=20, clf__n_estimators=50, clf__n_jobs=4 \n",
            "[CV]  clf__learning_rate=0.01, clf__max_depth=20, clf__n_estimators=50, clf__n_jobs=4, total=  42.9s\n",
            "[CV] clf__learning_rate=0.01, clf__max_depth=20, clf__n_estimators=50, clf__n_jobs=4 \n",
            "[CV]  clf__learning_rate=0.01, clf__max_depth=20, clf__n_estimators=50, clf__n_jobs=4, total=  43.0s\n",
            "[CV] clf__learning_rate=0.01, clf__max_depth=20, clf__n_estimators=100, clf__n_jobs=4 \n",
            "[CV]  clf__learning_rate=0.01, clf__max_depth=20, clf__n_estimators=100, clf__n_jobs=4, total= 1.4min\n",
            "[CV] clf__learning_rate=0.01, clf__max_depth=20, clf__n_estimators=100, clf__n_jobs=4 \n",
            "[CV]  clf__learning_rate=0.01, clf__max_depth=20, clf__n_estimators=100, clf__n_jobs=4, total= 1.5min\n",
            "[CV] clf__learning_rate=0.01, clf__max_depth=20, clf__n_estimators=100, clf__n_jobs=4 \n",
            "[CV]  clf__learning_rate=0.01, clf__max_depth=20, clf__n_estimators=100, clf__n_jobs=4, total= 1.5min\n",
            "[CV] clf__learning_rate=0.01, clf__max_depth=20, clf__n_estimators=100, clf__n_jobs=4 \n",
            "[CV]  clf__learning_rate=0.01, clf__max_depth=20, clf__n_estimators=100, clf__n_jobs=4, total= 1.5min\n"
          ],
          "name": "stdout"
        },
        {
          "output_type": "stream",
          "text": [
            "[Parallel(n_jobs=1)]: Done  48 out of  48 | elapsed: 29.5min finished\n"
          ],
          "name": "stderr"
        },
        {
          "output_type": "stream",
          "text": [
            "{'clf__learning_rate': 0.1, 'clf__max_depth': 5, 'clf__n_estimators': 100, 'clf__n_jobs': 4}\n",
            "1395.2965873858348\n"
          ],
          "name": "stdout"
        }
      ]
    },
    {
      "metadata": {
        "id": "xJLHUjaBH5Bq",
        "colab_type": "text"
      },
      "cell_type": "markdown",
      "source": [
        "# Attention !!!\n",
        "#### i have just tried a bit more tuning....\n",
        "initially i took num_boost_round=200 so it didn't run on my pc,so i reduced it to 2 then only rmse was 2368.but when i just increased to 20 th result is here!\n",
        "So, try to run it at 200 rounds on gpu or even more. Also, try to change the nfolds."
      ]
    },
    {
      "metadata": {
        "id": "Q-Da3QMYH5Bt",
        "colab_type": "code",
        "colab": {
          "base_uri": "https://localhost:8080/",
          "height": 51
        },
        "outputId": "2ab29984-3bdf-4c7b-e10a-be185ce5312a"
      },
      "cell_type": "code",
      "source": [
        "review_data_matrix=xgb.DMatrix(data=X,label=y)\n",
        "\n",
        "untuned_params = {\"objective\":\"reg:linear\"}\n",
        "\n",
        "tuned_cv_rmse = xgb.cv(dtrain = review_data_matrix,params=untuned_params, nfold=7, num_boost_round=200, metrics=\"rmse\",as_pandas=True, seed=123)\n",
        "\n",
        "print(type(tuned_cv_rmse))\n",
        "\n",
        "print(\"Tuned rmse: %f\" %((tuned_cv_rmse[\"test-rmse-mean\"]).tail(1)))\n"
      ],
      "execution_count": 27,
      "outputs": [
        {
          "output_type": "stream",
          "text": [
            "<class 'pandas.core.frame.DataFrame'>\n",
            "Tuned rmse: 1365.867336\n"
          ],
          "name": "stdout"
        }
      ]
    },
    {
      "metadata": {
        "id": "07BX_Nu-H5B-",
        "colab_type": "text"
      },
      "cell_type": "markdown",
      "source": [
        "## trying more tuning methods"
      ]
    },
    {
      "metadata": {
        "id": "rX2vx9ujH5CB",
        "colab_type": "text"
      },
      "cell_type": "markdown",
      "source": [
        "I didn't found this method benificial, so just go through it and if possible try hyperparameter tuning.that's it"
      ]
    },
    {
      "metadata": {
        "id": "rYB-di_cH5CE",
        "colab_type": "code",
        "colab": {
          "base_uri": "https://localhost:8080/",
          "height": 34
        },
        "outputId": "32a7f1c2-53bb-47a1-961d-6ebbb8e9b676"
      },
      "cell_type": "code",
      "source": [
        "tuned_params={\"objective\":\"reg:linear\",'colsample_bytree':0.3,'learning_rate':0.1,'max_depth':5}\n",
        "\n",
        "new_tuned_cv_rmse = xgb.cv(dtrain=review_data_matrix, params=tuned_params, nfold=5, num_boost_round=20, metrics=\"rmse\",as_pandas=True, seed=123)\n",
        "\n",
        "print(\"Tuned rmse: %f\" %((new_tuned_cv_rmse[\"test-rmse-mean\"]).tail(1)))\n"
      ],
      "execution_count": 28,
      "outputs": [
        {
          "output_type": "stream",
          "text": [
            "Tuned rmse: 2976.052100\n"
          ],
          "name": "stdout"
        }
      ]
    },
    {
      "metadata": {
        "id": "Q8HXkLYXJxbU",
        "colab_type": "text"
      },
      "cell_type": "markdown",
      "source": [
        "# SVR"
      ]
    },
    {
      "metadata": {
        "id": "M-jlpHlgH5CU",
        "colab_type": "code",
        "colab": {}
      },
      "cell_type": "code",
      "source": [
        "from sklearn.svm import SVR\n",
        "\n",
        "svr_rbf = SVR(kernel = 'rbf', C = 1e3, gamma = 0.1)\n",
        "\n",
        "svr_rbf.fit(X_train,y_train)\n",
        "svr_rbf.predict(X_test)\n",
        "svr_rbf.score(X_test,y_test)"
      ],
      "execution_count": 0,
      "outputs": []
    }
  ]
}