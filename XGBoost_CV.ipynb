{
  "nbformat": 4,
  "nbformat_minor": 0,
  "metadata": {
    "colab": {
      "name": "XGBoost_CV.ipynb",
      "version": "0.3.2",
      "provenance": [],
      "collapsed_sections": [],
      "include_colab_link": true
    },
    "kernelspec": {
      "name": "python3",
      "display_name": "Python 3"
    }
  },
  "cells": [
    {
      "cell_type": "markdown",
      "metadata": {
        "id": "view-in-github",
        "colab_type": "text"
      },
      "source": [
        "[View in Colaboratory](https://colab.research.google.com/github/manan-arya/Analytics_Vidhya_Competition/blob/XGBoost/XGBoost_CV.ipynb)"
      ]
    },
    {
      "metadata": {
        "id": "ZcYqwyw0HV94",
        "colab_type": "code",
        "colab": {}
      },
      "cell_type": "code",
      "source": [
        "import pandas as pd\n",
        "import numpy as np\n",
        "import xgboost as xgb\n",
        "from sklearn.model_selection import train_test_split\n",
        "from sklearn.metrics import mean_squared_error\n",
        "from xgboost.sklearn import XGBRegressor\n",
        "from sklearn.model_selection import GridSearchCV\n",
        "\n"
      ],
      "execution_count": 0,
      "outputs": []
    },
    {
      "metadata": {
        "id": "KsE3rBsqHqhK",
        "colab_type": "code",
        "colab": {
          "base_uri": "https://localhost:8080/",
          "height": 417
        },
        "outputId": "1c41a25c-e60a-4729-f06a-e884d69cc963"
      },
      "cell_type": "code",
      "source": [
        "!wget https://raw.githubusercontent.com/manan-arya/Analytics_Vidhya_Competition/master/train_NIR5Yl1.csv\n",
        "!wget https://raw.githubusercontent.com/manan-arya/Analytics_Vidhya_Competition/master/test_8i3B3FC.csv"
      ],
      "execution_count": 112,
      "outputs": [
        {
          "output_type": "stream",
          "text": [
            "--2018-09-02 11:59:09--  https://raw.githubusercontent.com/manan-arya/Analytics_Vidhya_Competition/master/train_NIR5Yl1.csv\r\n",
            "Resolving raw.githubusercontent.com (raw.githubusercontent.com)... 151.101.0.133, 151.101.64.133, 151.101.128.133, ...\r\n",
            "Connecting to raw.githubusercontent.com (raw.githubusercontent.com)|151.101.0.133|:443... connected.\n",
            "HTTP request sent, awaiting response... 200 OK\n",
            "Length: 12564851 (12M) [text/plain]\n",
            "Saving to: ‘train_NIR5Yl1.csv.3’\n",
            "\n",
            "train_NIR5Yl1.csv.3 100%[===================>]  11.98M  20.9MB/s    in 0.6s    \n",
            "\n",
            "2018-09-02 11:59:10 (20.9 MB/s) - ‘train_NIR5Yl1.csv.3’ saved [12564851/12564851]\n",
            "\n",
            "--2018-09-02 11:59:11--  https://raw.githubusercontent.com/manan-arya/Analytics_Vidhya_Competition/master/test_8i3B3FC.csv\n",
            "Resolving raw.githubusercontent.com (raw.githubusercontent.com)... 151.101.0.133, 151.101.64.133, 151.101.128.133, ...\n",
            "Connecting to raw.githubusercontent.com (raw.githubusercontent.com)|151.101.0.133|:443... connected.\n",
            "HTTP request sent, awaiting response... 200 OK\n",
            "Length: 4673330 (4.5M) [text/plain]\n",
            "Saving to: ‘test_8i3B3FC.csv.3’\n",
            "\n",
            "test_8i3B3FC.csv.3  100%[===================>]   4.46M  12.9MB/s    in 0.3s    \n",
            "\n",
            "2018-09-02 11:59:12 (12.9 MB/s) - ‘test_8i3B3FC.csv.3’ saved [4673330/4673330]\n",
            "\n"
          ],
          "name": "stdout"
        }
      ]
    },
    {
      "metadata": {
        "id": "xX1lh3iTHxbI",
        "colab_type": "code",
        "colab": {}
      },
      "cell_type": "code",
      "source": [
        "train=pd.read_csv(\"train_NIR5Yl1.csv\")\n",
        "test=pd.read_csv(\"test_8i3B3FC.csv\")"
      ],
      "execution_count": 0,
      "outputs": []
    },
    {
      "metadata": {
        "id": "n-poLyT2IhpO",
        "colab_type": "code",
        "colab": {
          "base_uri": "https://localhost:8080/",
          "height": 198
        },
        "outputId": "a7c26c13-f335-4088-8c01-f73d97f42840"
      },
      "cell_type": "code",
      "source": [
        "train.head()"
      ],
      "execution_count": 114,
      "outputs": [
        {
          "output_type": "execute_result",
          "data": {
            "text/html": [
              "<div>\n",
              "<style scoped>\n",
              "    .dataframe tbody tr th:only-of-type {\n",
              "        vertical-align: middle;\n",
              "    }\n",
              "\n",
              "    .dataframe tbody tr th {\n",
              "        vertical-align: top;\n",
              "    }\n",
              "\n",
              "    .dataframe thead th {\n",
              "        text-align: right;\n",
              "    }\n",
              "</style>\n",
              "<table border=\"1\" class=\"dataframe\">\n",
              "  <thead>\n",
              "    <tr style=\"text-align: right;\">\n",
              "      <th></th>\n",
              "      <th>ID</th>\n",
              "      <th>Tag</th>\n",
              "      <th>Reputation</th>\n",
              "      <th>Answers</th>\n",
              "      <th>Username</th>\n",
              "      <th>Views</th>\n",
              "      <th>Upvotes</th>\n",
              "    </tr>\n",
              "  </thead>\n",
              "  <tbody>\n",
              "    <tr>\n",
              "      <th>0</th>\n",
              "      <td>52664</td>\n",
              "      <td>a</td>\n",
              "      <td>3942.0</td>\n",
              "      <td>2.0</td>\n",
              "      <td>155623</td>\n",
              "      <td>7855.0</td>\n",
              "      <td>42.0</td>\n",
              "    </tr>\n",
              "    <tr>\n",
              "      <th>1</th>\n",
              "      <td>327662</td>\n",
              "      <td>a</td>\n",
              "      <td>26046.0</td>\n",
              "      <td>12.0</td>\n",
              "      <td>21781</td>\n",
              "      <td>55801.0</td>\n",
              "      <td>1175.0</td>\n",
              "    </tr>\n",
              "    <tr>\n",
              "      <th>2</th>\n",
              "      <td>468453</td>\n",
              "      <td>c</td>\n",
              "      <td>1358.0</td>\n",
              "      <td>4.0</td>\n",
              "      <td>56177</td>\n",
              "      <td>8067.0</td>\n",
              "      <td>60.0</td>\n",
              "    </tr>\n",
              "    <tr>\n",
              "      <th>3</th>\n",
              "      <td>96996</td>\n",
              "      <td>a</td>\n",
              "      <td>264.0</td>\n",
              "      <td>3.0</td>\n",
              "      <td>168793</td>\n",
              "      <td>27064.0</td>\n",
              "      <td>9.0</td>\n",
              "    </tr>\n",
              "    <tr>\n",
              "      <th>4</th>\n",
              "      <td>131465</td>\n",
              "      <td>c</td>\n",
              "      <td>4271.0</td>\n",
              "      <td>4.0</td>\n",
              "      <td>112223</td>\n",
              "      <td>13986.0</td>\n",
              "      <td>83.0</td>\n",
              "    </tr>\n",
              "  </tbody>\n",
              "</table>\n",
              "</div>"
            ],
            "text/plain": [
              "       ID Tag  Reputation  Answers  Username    Views  Upvotes\n",
              "0   52664   a      3942.0      2.0    155623   7855.0     42.0\n",
              "1  327662   a     26046.0     12.0     21781  55801.0   1175.0\n",
              "2  468453   c      1358.0      4.0     56177   8067.0     60.0\n",
              "3   96996   a       264.0      3.0    168793  27064.0      9.0\n",
              "4  131465   c      4271.0      4.0    112223  13986.0     83.0"
            ]
          },
          "metadata": {
            "tags": []
          },
          "execution_count": 114
        }
      ]
    },
    {
      "metadata": {
        "id": "N2yUbLpNImbe",
        "colab_type": "code",
        "colab": {
          "base_uri": "https://localhost:8080/",
          "height": 198
        },
        "outputId": "e21d695d-da09-483f-f30b-eeac9b7e9181"
      },
      "cell_type": "code",
      "source": [
        "test.head()"
      ],
      "execution_count": 115,
      "outputs": [
        {
          "output_type": "execute_result",
          "data": {
            "text/html": [
              "<div>\n",
              "<style scoped>\n",
              "    .dataframe tbody tr th:only-of-type {\n",
              "        vertical-align: middle;\n",
              "    }\n",
              "\n",
              "    .dataframe tbody tr th {\n",
              "        vertical-align: top;\n",
              "    }\n",
              "\n",
              "    .dataframe thead th {\n",
              "        text-align: right;\n",
              "    }\n",
              "</style>\n",
              "<table border=\"1\" class=\"dataframe\">\n",
              "  <thead>\n",
              "    <tr style=\"text-align: right;\">\n",
              "      <th></th>\n",
              "      <th>ID</th>\n",
              "      <th>Tag</th>\n",
              "      <th>Reputation</th>\n",
              "      <th>Answers</th>\n",
              "      <th>Username</th>\n",
              "      <th>Views</th>\n",
              "    </tr>\n",
              "  </thead>\n",
              "  <tbody>\n",
              "    <tr>\n",
              "      <th>0</th>\n",
              "      <td>366953</td>\n",
              "      <td>a</td>\n",
              "      <td>5645.0</td>\n",
              "      <td>3.0</td>\n",
              "      <td>50652</td>\n",
              "      <td>33200.0</td>\n",
              "    </tr>\n",
              "    <tr>\n",
              "      <th>1</th>\n",
              "      <td>71864</td>\n",
              "      <td>c</td>\n",
              "      <td>24511.0</td>\n",
              "      <td>6.0</td>\n",
              "      <td>37685</td>\n",
              "      <td>2730.0</td>\n",
              "    </tr>\n",
              "    <tr>\n",
              "      <th>2</th>\n",
              "      <td>141692</td>\n",
              "      <td>i</td>\n",
              "      <td>927.0</td>\n",
              "      <td>1.0</td>\n",
              "      <td>135293</td>\n",
              "      <td>21167.0</td>\n",
              "    </tr>\n",
              "    <tr>\n",
              "      <th>3</th>\n",
              "      <td>316833</td>\n",
              "      <td>i</td>\n",
              "      <td>21.0</td>\n",
              "      <td>6.0</td>\n",
              "      <td>166998</td>\n",
              "      <td>18528.0</td>\n",
              "    </tr>\n",
              "    <tr>\n",
              "      <th>4</th>\n",
              "      <td>440445</td>\n",
              "      <td>i</td>\n",
              "      <td>4475.0</td>\n",
              "      <td>10.0</td>\n",
              "      <td>53504</td>\n",
              "      <td>57240.0</td>\n",
              "    </tr>\n",
              "  </tbody>\n",
              "</table>\n",
              "</div>"
            ],
            "text/plain": [
              "       ID Tag  Reputation  Answers  Username    Views\n",
              "0  366953   a      5645.0      3.0     50652  33200.0\n",
              "1   71864   c     24511.0      6.0     37685   2730.0\n",
              "2  141692   i       927.0      1.0    135293  21167.0\n",
              "3  316833   i        21.0      6.0    166998  18528.0\n",
              "4  440445   i      4475.0     10.0     53504  57240.0"
            ]
          },
          "metadata": {
            "tags": []
          },
          "execution_count": 115
        }
      ]
    },
    {
      "metadata": {
        "id": "srvtURNnJABj",
        "colab_type": "code",
        "colab": {
          "base_uri": "https://localhost:8080/",
          "height": 198
        },
        "outputId": "255389f8-e8f2-429e-da91-81dc025745b0"
      },
      "cell_type": "code",
      "source": [
        "train = pd.concat([train,pd.get_dummies(train['Tag'], drop_first=True)], axis=1)\n",
        "train.head()"
      ],
      "execution_count": 116,
      "outputs": [
        {
          "output_type": "execute_result",
          "data": {
            "text/html": [
              "<div>\n",
              "<style scoped>\n",
              "    .dataframe tbody tr th:only-of-type {\n",
              "        vertical-align: middle;\n",
              "    }\n",
              "\n",
              "    .dataframe tbody tr th {\n",
              "        vertical-align: top;\n",
              "    }\n",
              "\n",
              "    .dataframe thead th {\n",
              "        text-align: right;\n",
              "    }\n",
              "</style>\n",
              "<table border=\"1\" class=\"dataframe\">\n",
              "  <thead>\n",
              "    <tr style=\"text-align: right;\">\n",
              "      <th></th>\n",
              "      <th>ID</th>\n",
              "      <th>Tag</th>\n",
              "      <th>Reputation</th>\n",
              "      <th>Answers</th>\n",
              "      <th>Username</th>\n",
              "      <th>Views</th>\n",
              "      <th>Upvotes</th>\n",
              "      <th>c</th>\n",
              "      <th>h</th>\n",
              "      <th>i</th>\n",
              "      <th>j</th>\n",
              "      <th>o</th>\n",
              "      <th>p</th>\n",
              "      <th>r</th>\n",
              "      <th>s</th>\n",
              "      <th>x</th>\n",
              "    </tr>\n",
              "  </thead>\n",
              "  <tbody>\n",
              "    <tr>\n",
              "      <th>0</th>\n",
              "      <td>52664</td>\n",
              "      <td>a</td>\n",
              "      <td>3942.0</td>\n",
              "      <td>2.0</td>\n",
              "      <td>155623</td>\n",
              "      <td>7855.0</td>\n",
              "      <td>42.0</td>\n",
              "      <td>0</td>\n",
              "      <td>0</td>\n",
              "      <td>0</td>\n",
              "      <td>0</td>\n",
              "      <td>0</td>\n",
              "      <td>0</td>\n",
              "      <td>0</td>\n",
              "      <td>0</td>\n",
              "      <td>0</td>\n",
              "    </tr>\n",
              "    <tr>\n",
              "      <th>1</th>\n",
              "      <td>327662</td>\n",
              "      <td>a</td>\n",
              "      <td>26046.0</td>\n",
              "      <td>12.0</td>\n",
              "      <td>21781</td>\n",
              "      <td>55801.0</td>\n",
              "      <td>1175.0</td>\n",
              "      <td>0</td>\n",
              "      <td>0</td>\n",
              "      <td>0</td>\n",
              "      <td>0</td>\n",
              "      <td>0</td>\n",
              "      <td>0</td>\n",
              "      <td>0</td>\n",
              "      <td>0</td>\n",
              "      <td>0</td>\n",
              "    </tr>\n",
              "    <tr>\n",
              "      <th>2</th>\n",
              "      <td>468453</td>\n",
              "      <td>c</td>\n",
              "      <td>1358.0</td>\n",
              "      <td>4.0</td>\n",
              "      <td>56177</td>\n",
              "      <td>8067.0</td>\n",
              "      <td>60.0</td>\n",
              "      <td>1</td>\n",
              "      <td>0</td>\n",
              "      <td>0</td>\n",
              "      <td>0</td>\n",
              "      <td>0</td>\n",
              "      <td>0</td>\n",
              "      <td>0</td>\n",
              "      <td>0</td>\n",
              "      <td>0</td>\n",
              "    </tr>\n",
              "    <tr>\n",
              "      <th>3</th>\n",
              "      <td>96996</td>\n",
              "      <td>a</td>\n",
              "      <td>264.0</td>\n",
              "      <td>3.0</td>\n",
              "      <td>168793</td>\n",
              "      <td>27064.0</td>\n",
              "      <td>9.0</td>\n",
              "      <td>0</td>\n",
              "      <td>0</td>\n",
              "      <td>0</td>\n",
              "      <td>0</td>\n",
              "      <td>0</td>\n",
              "      <td>0</td>\n",
              "      <td>0</td>\n",
              "      <td>0</td>\n",
              "      <td>0</td>\n",
              "    </tr>\n",
              "    <tr>\n",
              "      <th>4</th>\n",
              "      <td>131465</td>\n",
              "      <td>c</td>\n",
              "      <td>4271.0</td>\n",
              "      <td>4.0</td>\n",
              "      <td>112223</td>\n",
              "      <td>13986.0</td>\n",
              "      <td>83.0</td>\n",
              "      <td>1</td>\n",
              "      <td>0</td>\n",
              "      <td>0</td>\n",
              "      <td>0</td>\n",
              "      <td>0</td>\n",
              "      <td>0</td>\n",
              "      <td>0</td>\n",
              "      <td>0</td>\n",
              "      <td>0</td>\n",
              "    </tr>\n",
              "  </tbody>\n",
              "</table>\n",
              "</div>"
            ],
            "text/plain": [
              "       ID Tag  Reputation  Answers  Username    Views  Upvotes  c  h  i  j  o  \\\n",
              "0   52664   a      3942.0      2.0    155623   7855.0     42.0  0  0  0  0  0   \n",
              "1  327662   a     26046.0     12.0     21781  55801.0   1175.0  0  0  0  0  0   \n",
              "2  468453   c      1358.0      4.0     56177   8067.0     60.0  1  0  0  0  0   \n",
              "3   96996   a       264.0      3.0    168793  27064.0      9.0  0  0  0  0  0   \n",
              "4  131465   c      4271.0      4.0    112223  13986.0     83.0  1  0  0  0  0   \n",
              "\n",
              "   p  r  s  x  \n",
              "0  0  0  0  0  \n",
              "1  0  0  0  0  \n",
              "2  0  0  0  0  \n",
              "3  0  0  0  0  \n",
              "4  0  0  0  0  "
            ]
          },
          "metadata": {
            "tags": []
          },
          "execution_count": 116
        }
      ]
    },
    {
      "metadata": {
        "id": "PiJ3uts2J6hU",
        "colab_type": "code",
        "colab": {
          "base_uri": "https://localhost:8080/",
          "height": 198
        },
        "outputId": "314f2380-f698-4335-facb-214ba038bafc"
      },
      "cell_type": "code",
      "source": [
        "test = pd.concat([test,pd.get_dummies(test['Tag'], drop_first=True)], axis=1)\n",
        "test.head()"
      ],
      "execution_count": 117,
      "outputs": [
        {
          "output_type": "execute_result",
          "data": {
            "text/html": [
              "<div>\n",
              "<style scoped>\n",
              "    .dataframe tbody tr th:only-of-type {\n",
              "        vertical-align: middle;\n",
              "    }\n",
              "\n",
              "    .dataframe tbody tr th {\n",
              "        vertical-align: top;\n",
              "    }\n",
              "\n",
              "    .dataframe thead th {\n",
              "        text-align: right;\n",
              "    }\n",
              "</style>\n",
              "<table border=\"1\" class=\"dataframe\">\n",
              "  <thead>\n",
              "    <tr style=\"text-align: right;\">\n",
              "      <th></th>\n",
              "      <th>ID</th>\n",
              "      <th>Tag</th>\n",
              "      <th>Reputation</th>\n",
              "      <th>Answers</th>\n",
              "      <th>Username</th>\n",
              "      <th>Views</th>\n",
              "      <th>c</th>\n",
              "      <th>h</th>\n",
              "      <th>i</th>\n",
              "      <th>j</th>\n",
              "      <th>o</th>\n",
              "      <th>p</th>\n",
              "      <th>r</th>\n",
              "      <th>s</th>\n",
              "      <th>x</th>\n",
              "    </tr>\n",
              "  </thead>\n",
              "  <tbody>\n",
              "    <tr>\n",
              "      <th>0</th>\n",
              "      <td>366953</td>\n",
              "      <td>a</td>\n",
              "      <td>5645.0</td>\n",
              "      <td>3.0</td>\n",
              "      <td>50652</td>\n",
              "      <td>33200.0</td>\n",
              "      <td>0</td>\n",
              "      <td>0</td>\n",
              "      <td>0</td>\n",
              "      <td>0</td>\n",
              "      <td>0</td>\n",
              "      <td>0</td>\n",
              "      <td>0</td>\n",
              "      <td>0</td>\n",
              "      <td>0</td>\n",
              "    </tr>\n",
              "    <tr>\n",
              "      <th>1</th>\n",
              "      <td>71864</td>\n",
              "      <td>c</td>\n",
              "      <td>24511.0</td>\n",
              "      <td>6.0</td>\n",
              "      <td>37685</td>\n",
              "      <td>2730.0</td>\n",
              "      <td>1</td>\n",
              "      <td>0</td>\n",
              "      <td>0</td>\n",
              "      <td>0</td>\n",
              "      <td>0</td>\n",
              "      <td>0</td>\n",
              "      <td>0</td>\n",
              "      <td>0</td>\n",
              "      <td>0</td>\n",
              "    </tr>\n",
              "    <tr>\n",
              "      <th>2</th>\n",
              "      <td>141692</td>\n",
              "      <td>i</td>\n",
              "      <td>927.0</td>\n",
              "      <td>1.0</td>\n",
              "      <td>135293</td>\n",
              "      <td>21167.0</td>\n",
              "      <td>0</td>\n",
              "      <td>0</td>\n",
              "      <td>1</td>\n",
              "      <td>0</td>\n",
              "      <td>0</td>\n",
              "      <td>0</td>\n",
              "      <td>0</td>\n",
              "      <td>0</td>\n",
              "      <td>0</td>\n",
              "    </tr>\n",
              "    <tr>\n",
              "      <th>3</th>\n",
              "      <td>316833</td>\n",
              "      <td>i</td>\n",
              "      <td>21.0</td>\n",
              "      <td>6.0</td>\n",
              "      <td>166998</td>\n",
              "      <td>18528.0</td>\n",
              "      <td>0</td>\n",
              "      <td>0</td>\n",
              "      <td>1</td>\n",
              "      <td>0</td>\n",
              "      <td>0</td>\n",
              "      <td>0</td>\n",
              "      <td>0</td>\n",
              "      <td>0</td>\n",
              "      <td>0</td>\n",
              "    </tr>\n",
              "    <tr>\n",
              "      <th>4</th>\n",
              "      <td>440445</td>\n",
              "      <td>i</td>\n",
              "      <td>4475.0</td>\n",
              "      <td>10.0</td>\n",
              "      <td>53504</td>\n",
              "      <td>57240.0</td>\n",
              "      <td>0</td>\n",
              "      <td>0</td>\n",
              "      <td>1</td>\n",
              "      <td>0</td>\n",
              "      <td>0</td>\n",
              "      <td>0</td>\n",
              "      <td>0</td>\n",
              "      <td>0</td>\n",
              "      <td>0</td>\n",
              "    </tr>\n",
              "  </tbody>\n",
              "</table>\n",
              "</div>"
            ],
            "text/plain": [
              "       ID Tag  Reputation  Answers  Username    Views  c  h  i  j  o  p  r  s  \\\n",
              "0  366953   a      5645.0      3.0     50652  33200.0  0  0  0  0  0  0  0  0   \n",
              "1   71864   c     24511.0      6.0     37685   2730.0  1  0  0  0  0  0  0  0   \n",
              "2  141692   i       927.0      1.0    135293  21167.0  0  0  1  0  0  0  0  0   \n",
              "3  316833   i        21.0      6.0    166998  18528.0  0  0  1  0  0  0  0  0   \n",
              "4  440445   i      4475.0     10.0     53504  57240.0  0  0  1  0  0  0  0  0   \n",
              "\n",
              "   x  \n",
              "0  0  \n",
              "1  0  \n",
              "2  0  \n",
              "3  0  \n",
              "4  0  "
            ]
          },
          "metadata": {
            "tags": []
          },
          "execution_count": 117
        }
      ]
    },
    {
      "metadata": {
        "id": "-ksoYFnUKIEO",
        "colab_type": "code",
        "colab": {}
      },
      "cell_type": "code",
      "source": [
        "train.drop(\"Tag\",axis=1,inplace=True)\n",
        "test.drop(\"Tag\",axis=1,inplace=True)\n",
        "ID=test['ID']\n"
      ],
      "execution_count": 0,
      "outputs": []
    },
    {
      "metadata": {
        "id": "bxVlwswjQoeV",
        "colab_type": "code",
        "colab": {}
      },
      "cell_type": "code",
      "source": [
        "train.drop(\"ID\",axis=1,inplace=True)\n",
        "test.drop(\"ID\",axis=1,inplace=True)"
      ],
      "execution_count": 0,
      "outputs": []
    },
    {
      "metadata": {
        "id": "usowc5LcRWle",
        "colab_type": "code",
        "colab": {
          "base_uri": "https://localhost:8080/",
          "height": 198
        },
        "outputId": "cb440b7a-f15f-4d66-f6e8-0fe2e40254bc"
      },
      "cell_type": "code",
      "source": [
        "train.head()"
      ],
      "execution_count": 120,
      "outputs": [
        {
          "output_type": "execute_result",
          "data": {
            "text/html": [
              "<div>\n",
              "<style scoped>\n",
              "    .dataframe tbody tr th:only-of-type {\n",
              "        vertical-align: middle;\n",
              "    }\n",
              "\n",
              "    .dataframe tbody tr th {\n",
              "        vertical-align: top;\n",
              "    }\n",
              "\n",
              "    .dataframe thead th {\n",
              "        text-align: right;\n",
              "    }\n",
              "</style>\n",
              "<table border=\"1\" class=\"dataframe\">\n",
              "  <thead>\n",
              "    <tr style=\"text-align: right;\">\n",
              "      <th></th>\n",
              "      <th>Reputation</th>\n",
              "      <th>Answers</th>\n",
              "      <th>Username</th>\n",
              "      <th>Views</th>\n",
              "      <th>Upvotes</th>\n",
              "      <th>c</th>\n",
              "      <th>h</th>\n",
              "      <th>i</th>\n",
              "      <th>j</th>\n",
              "      <th>o</th>\n",
              "      <th>p</th>\n",
              "      <th>r</th>\n",
              "      <th>s</th>\n",
              "      <th>x</th>\n",
              "    </tr>\n",
              "  </thead>\n",
              "  <tbody>\n",
              "    <tr>\n",
              "      <th>0</th>\n",
              "      <td>3942.0</td>\n",
              "      <td>2.0</td>\n",
              "      <td>155623</td>\n",
              "      <td>7855.0</td>\n",
              "      <td>42.0</td>\n",
              "      <td>0</td>\n",
              "      <td>0</td>\n",
              "      <td>0</td>\n",
              "      <td>0</td>\n",
              "      <td>0</td>\n",
              "      <td>0</td>\n",
              "      <td>0</td>\n",
              "      <td>0</td>\n",
              "      <td>0</td>\n",
              "    </tr>\n",
              "    <tr>\n",
              "      <th>1</th>\n",
              "      <td>26046.0</td>\n",
              "      <td>12.0</td>\n",
              "      <td>21781</td>\n",
              "      <td>55801.0</td>\n",
              "      <td>1175.0</td>\n",
              "      <td>0</td>\n",
              "      <td>0</td>\n",
              "      <td>0</td>\n",
              "      <td>0</td>\n",
              "      <td>0</td>\n",
              "      <td>0</td>\n",
              "      <td>0</td>\n",
              "      <td>0</td>\n",
              "      <td>0</td>\n",
              "    </tr>\n",
              "    <tr>\n",
              "      <th>2</th>\n",
              "      <td>1358.0</td>\n",
              "      <td>4.0</td>\n",
              "      <td>56177</td>\n",
              "      <td>8067.0</td>\n",
              "      <td>60.0</td>\n",
              "      <td>1</td>\n",
              "      <td>0</td>\n",
              "      <td>0</td>\n",
              "      <td>0</td>\n",
              "      <td>0</td>\n",
              "      <td>0</td>\n",
              "      <td>0</td>\n",
              "      <td>0</td>\n",
              "      <td>0</td>\n",
              "    </tr>\n",
              "    <tr>\n",
              "      <th>3</th>\n",
              "      <td>264.0</td>\n",
              "      <td>3.0</td>\n",
              "      <td>168793</td>\n",
              "      <td>27064.0</td>\n",
              "      <td>9.0</td>\n",
              "      <td>0</td>\n",
              "      <td>0</td>\n",
              "      <td>0</td>\n",
              "      <td>0</td>\n",
              "      <td>0</td>\n",
              "      <td>0</td>\n",
              "      <td>0</td>\n",
              "      <td>0</td>\n",
              "      <td>0</td>\n",
              "    </tr>\n",
              "    <tr>\n",
              "      <th>4</th>\n",
              "      <td>4271.0</td>\n",
              "      <td>4.0</td>\n",
              "      <td>112223</td>\n",
              "      <td>13986.0</td>\n",
              "      <td>83.0</td>\n",
              "      <td>1</td>\n",
              "      <td>0</td>\n",
              "      <td>0</td>\n",
              "      <td>0</td>\n",
              "      <td>0</td>\n",
              "      <td>0</td>\n",
              "      <td>0</td>\n",
              "      <td>0</td>\n",
              "      <td>0</td>\n",
              "    </tr>\n",
              "  </tbody>\n",
              "</table>\n",
              "</div>"
            ],
            "text/plain": [
              "   Reputation  Answers  Username    Views  Upvotes  c  h  i  j  o  p  r  s  x\n",
              "0      3942.0      2.0    155623   7855.0     42.0  0  0  0  0  0  0  0  0  0\n",
              "1     26046.0     12.0     21781  55801.0   1175.0  0  0  0  0  0  0  0  0  0\n",
              "2      1358.0      4.0     56177   8067.0     60.0  1  0  0  0  0  0  0  0  0\n",
              "3       264.0      3.0    168793  27064.0      9.0  0  0  0  0  0  0  0  0  0\n",
              "4      4271.0      4.0    112223  13986.0     83.0  1  0  0  0  0  0  0  0  0"
            ]
          },
          "metadata": {
            "tags": []
          },
          "execution_count": 120
        }
      ]
    },
    {
      "metadata": {
        "id": "lALkS6SEOaWB",
        "colab_type": "code",
        "colab": {}
      },
      "cell_type": "code",
      "source": [
        "X=train.drop(\"Upvotes\",axis=1)\n",
        "y=train[\"Upvotes\"]\n"
      ],
      "execution_count": 0,
      "outputs": []
    },
    {
      "metadata": {
        "id": "IMVs3jyd6P0q",
        "colab_type": "code",
        "colab": {}
      },
      "cell_type": "code",
      "source": [
        "X_train, X_test, y_train, y_test= train_test_split(X, y,test_size=0.2, random_state=123)"
      ],
      "execution_count": 0,
      "outputs": []
    },
    {
      "metadata": {
        "id": "Ppc2mtELLHJ8",
        "colab_type": "code",
        "colab": {
          "base_uri": "https://localhost:8080/",
          "height": 35
        },
        "outputId": "b5204a78-1a3a-4652-c43e-3155ff22237d"
      },
      "cell_type": "code",
      "source": [
        "DM_train = xgb.DMatrix(data=X_train,label=y_train)\n",
        "DM_test = xgb.DMatrix(data=X_test,label=y_test)\n",
        "params = {\"booster\":\"gblinear\",\"objective\":\"reg:linear\"}\n",
        "xg_reg = xgb.train(params = params, dtrain=DM_train,num_boost_round=200)\n",
        "\n",
        "preds = xg_reg.predict(DM_test)\n",
        "rmse = np.sqrt(mean_squared_error(y_test,preds))\n",
        "print(\"RMSE: %f\" % (rmse))\n",
        "\n"
      ],
      "execution_count": 88,
      "outputs": [
        {
          "output_type": "stream",
          "text": [
            "RMSE: 2742.814975\n"
          ],
          "name": "stdout"
        }
      ]
    },
    {
      "metadata": {
        "id": "v7bCdMBtQuLk",
        "colab_type": "code",
        "colab": {
          "base_uri": "https://localhost:8080/",
          "height": 645
        },
        "outputId": "c426720c-31f2-41db-c827-e11410403f1a"
      },
      "cell_type": "code",
      "source": [
        "review_data_matrix=xgb.DMatrix(data=X,label=y)\n",
        "\n",
        "untuned_params = {\"objective\":\"reg:linear\"}\n",
        "\n",
        "tuned_cv_rmse = xgb.cv(dtrain = review_data_matrix,params=untuned_params, nfold=7, num_boost_round=200, metrics=\"rmse\",as_pandas=True, seed=123)\n",
        "\n",
        "print(type(tuned_cv_rmse))\n",
        "\n",
        "print(\"Tuned rmse: %f\" %((tuned_cv_rmse[\"test-rmse-mean\"]).tail(1)))\n"
      ],
      "execution_count": 37,
      "outputs": [
        {
          "output_type": "error",
          "ename": "KeyboardInterrupt",
          "evalue": "ignored",
          "traceback": [
            "\u001b[0;31m---------------------------------------------------------------------------\u001b[0m",
            "\u001b[0;31mKeyboardInterrupt\u001b[0m                         Traceback (most recent call last)",
            "\u001b[0;32m<ipython-input-37-afcd43fdadb7>\u001b[0m in \u001b[0;36m<module>\u001b[0;34m()\u001b[0m\n\u001b[1;32m      3\u001b[0m \u001b[0muntuned_params\u001b[0m \u001b[0;34m=\u001b[0m \u001b[0;34m{\u001b[0m\u001b[0;34m\"objective\"\u001b[0m\u001b[0;34m:\u001b[0m\u001b[0;34m\"reg:linear\"\u001b[0m\u001b[0;34m}\u001b[0m\u001b[0;34m\u001b[0m\u001b[0m\n\u001b[1;32m      4\u001b[0m \u001b[0;34m\u001b[0m\u001b[0m\n\u001b[0;32m----> 5\u001b[0;31m \u001b[0mtuned_cv_rmse\u001b[0m \u001b[0;34m=\u001b[0m \u001b[0mxgb\u001b[0m\u001b[0;34m.\u001b[0m\u001b[0mcv\u001b[0m\u001b[0;34m(\u001b[0m\u001b[0mdtrain\u001b[0m \u001b[0;34m=\u001b[0m \u001b[0mreview_data_matrix\u001b[0m\u001b[0;34m,\u001b[0m\u001b[0mparams\u001b[0m\u001b[0;34m=\u001b[0m\u001b[0muntuned_params\u001b[0m\u001b[0;34m,\u001b[0m \u001b[0mnfold\u001b[0m\u001b[0;34m=\u001b[0m\u001b[0;36m7\u001b[0m\u001b[0;34m,\u001b[0m \u001b[0mnum_boost_round\u001b[0m\u001b[0;34m=\u001b[0m\u001b[0;36m200\u001b[0m\u001b[0;34m,\u001b[0m \u001b[0mmetrics\u001b[0m\u001b[0;34m=\u001b[0m\u001b[0;34m\"rmse\"\u001b[0m\u001b[0;34m,\u001b[0m\u001b[0mas_pandas\u001b[0m\u001b[0;34m=\u001b[0m\u001b[0;32mTrue\u001b[0m\u001b[0;34m,\u001b[0m \u001b[0mseed\u001b[0m\u001b[0;34m=\u001b[0m\u001b[0;36m123\u001b[0m\u001b[0;34m)\u001b[0m\u001b[0;34m\u001b[0m\u001b[0m\n\u001b[0m\u001b[1;32m      6\u001b[0m \u001b[0;34m\u001b[0m\u001b[0m\n\u001b[1;32m      7\u001b[0m \u001b[0mprint\u001b[0m\u001b[0;34m(\u001b[0m\u001b[0mtype\u001b[0m\u001b[0;34m(\u001b[0m\u001b[0mtuned_cv_rmse\u001b[0m\u001b[0;34m)\u001b[0m\u001b[0;34m)\u001b[0m\u001b[0;34m\u001b[0m\u001b[0m\n",
            "\u001b[0;32m/usr/local/lib/python3.6/dist-packages/xgboost/training.py\u001b[0m in \u001b[0;36mcv\u001b[0;34m(params, dtrain, num_boost_round, nfold, stratified, folds, metrics, obj, feval, maximize, early_stopping_rounds, fpreproc, as_pandas, verbose_eval, show_stdv, seed, callbacks, shuffle)\u001b[0m\n\u001b[1;32m    404\u001b[0m                            evaluation_result_list=None))\n\u001b[1;32m    405\u001b[0m         \u001b[0;32mfor\u001b[0m \u001b[0mfold\u001b[0m \u001b[0;32min\u001b[0m \u001b[0mcvfolds\u001b[0m\u001b[0;34m:\u001b[0m\u001b[0;34m\u001b[0m\u001b[0m\n\u001b[0;32m--> 406\u001b[0;31m             \u001b[0mfold\u001b[0m\u001b[0;34m.\u001b[0m\u001b[0mupdate\u001b[0m\u001b[0;34m(\u001b[0m\u001b[0mi\u001b[0m\u001b[0;34m,\u001b[0m \u001b[0mobj\u001b[0m\u001b[0;34m)\u001b[0m\u001b[0;34m\u001b[0m\u001b[0m\n\u001b[0m\u001b[1;32m    407\u001b[0m         \u001b[0mres\u001b[0m \u001b[0;34m=\u001b[0m \u001b[0maggcv\u001b[0m\u001b[0;34m(\u001b[0m\u001b[0;34m[\u001b[0m\u001b[0mf\u001b[0m\u001b[0;34m.\u001b[0m\u001b[0meval\u001b[0m\u001b[0;34m(\u001b[0m\u001b[0mi\u001b[0m\u001b[0;34m,\u001b[0m \u001b[0mfeval\u001b[0m\u001b[0;34m)\u001b[0m \u001b[0;32mfor\u001b[0m \u001b[0mf\u001b[0m \u001b[0;32min\u001b[0m \u001b[0mcvfolds\u001b[0m\u001b[0;34m]\u001b[0m\u001b[0;34m)\u001b[0m\u001b[0;34m\u001b[0m\u001b[0m\n\u001b[1;32m    408\u001b[0m \u001b[0;34m\u001b[0m\u001b[0m\n",
            "\u001b[0;32m/usr/local/lib/python3.6/dist-packages/xgboost/training.py\u001b[0m in \u001b[0;36mupdate\u001b[0;34m(self, iteration, fobj)\u001b[0m\n\u001b[1;32m    216\u001b[0m     \u001b[0;32mdef\u001b[0m \u001b[0mupdate\u001b[0m\u001b[0;34m(\u001b[0m\u001b[0mself\u001b[0m\u001b[0;34m,\u001b[0m \u001b[0miteration\u001b[0m\u001b[0;34m,\u001b[0m \u001b[0mfobj\u001b[0m\u001b[0;34m)\u001b[0m\u001b[0;34m:\u001b[0m\u001b[0;34m\u001b[0m\u001b[0m\n\u001b[1;32m    217\u001b[0m         \u001b[0;34m\"\"\"\"Update the boosters for one iteration\"\"\"\u001b[0m\u001b[0;34m\u001b[0m\u001b[0m\n\u001b[0;32m--> 218\u001b[0;31m         \u001b[0mself\u001b[0m\u001b[0;34m.\u001b[0m\u001b[0mbst\u001b[0m\u001b[0;34m.\u001b[0m\u001b[0mupdate\u001b[0m\u001b[0;34m(\u001b[0m\u001b[0mself\u001b[0m\u001b[0;34m.\u001b[0m\u001b[0mdtrain\u001b[0m\u001b[0;34m,\u001b[0m \u001b[0miteration\u001b[0m\u001b[0;34m,\u001b[0m \u001b[0mfobj\u001b[0m\u001b[0;34m)\u001b[0m\u001b[0;34m\u001b[0m\u001b[0m\n\u001b[0m\u001b[1;32m    219\u001b[0m \u001b[0;34m\u001b[0m\u001b[0m\n\u001b[1;32m    220\u001b[0m     \u001b[0;32mdef\u001b[0m \u001b[0meval\u001b[0m\u001b[0;34m(\u001b[0m\u001b[0mself\u001b[0m\u001b[0;34m,\u001b[0m \u001b[0miteration\u001b[0m\u001b[0;34m,\u001b[0m \u001b[0mfeval\u001b[0m\u001b[0;34m)\u001b[0m\u001b[0;34m:\u001b[0m\u001b[0;34m\u001b[0m\u001b[0m\n",
            "\u001b[0;32m/usr/local/lib/python3.6/dist-packages/xgboost/core.py\u001b[0m in \u001b[0;36mupdate\u001b[0;34m(self, dtrain, iteration, fobj)\u001b[0m\n\u001b[1;32m    896\u001b[0m         \u001b[0;32mif\u001b[0m \u001b[0mfobj\u001b[0m \u001b[0;32mis\u001b[0m \u001b[0;32mNone\u001b[0m\u001b[0;34m:\u001b[0m\u001b[0;34m\u001b[0m\u001b[0m\n\u001b[1;32m    897\u001b[0m             _check_call(_LIB.XGBoosterUpdateOneIter(self.handle, ctypes.c_int(iteration),\n\u001b[0;32m--> 898\u001b[0;31m                                                     dtrain.handle))\n\u001b[0m\u001b[1;32m    899\u001b[0m         \u001b[0;32melse\u001b[0m\u001b[0;34m:\u001b[0m\u001b[0;34m\u001b[0m\u001b[0m\n\u001b[1;32m    900\u001b[0m             \u001b[0mpred\u001b[0m \u001b[0;34m=\u001b[0m \u001b[0mself\u001b[0m\u001b[0;34m.\u001b[0m\u001b[0mpredict\u001b[0m\u001b[0;34m(\u001b[0m\u001b[0mdtrain\u001b[0m\u001b[0;34m)\u001b[0m\u001b[0;34m\u001b[0m\u001b[0m\n",
            "\u001b[0;31mKeyboardInterrupt\u001b[0m: "
          ]
        }
      ]
    },
    {
      "metadata": {
        "id": "jahbX9aq9YxQ",
        "colab_type": "code",
        "colab": {
          "base_uri": "https://localhost:8080/",
          "height": 335
        },
        "outputId": "28a9da85-ac55-48aa-8356-5209393b5005"
      },
      "cell_type": "code",
      "source": [
        "new_preds=tuned_cv_rmse.predict(X_test)\n",
        "new_rmse = np.sqrt(mean_squared_error(y_test,new_preds))\n",
        "print(\"RMSE: %f\" % (new_rmse))\n"
      ],
      "execution_count": 21,
      "outputs": [
        {
          "output_type": "error",
          "ename": "AttributeError",
          "evalue": "ignored",
          "traceback": [
            "\u001b[0;31m---------------------------------------------------------------------------\u001b[0m",
            "\u001b[0;31mAttributeError\u001b[0m                            Traceback (most recent call last)",
            "\u001b[0;32m<ipython-input-21-db2f3e44b4aa>\u001b[0m in \u001b[0;36m<module>\u001b[0;34m()\u001b[0m\n\u001b[0;32m----> 1\u001b[0;31m \u001b[0mnew_preds\u001b[0m\u001b[0;34m=\u001b[0m\u001b[0mtuned_cv_rmse\u001b[0m\u001b[0;34m.\u001b[0m\u001b[0mpredict\u001b[0m\u001b[0;34m(\u001b[0m\u001b[0mX_test\u001b[0m\u001b[0;34m)\u001b[0m\u001b[0;34m\u001b[0m\u001b[0m\n\u001b[0m\u001b[1;32m      2\u001b[0m \u001b[0mnew_rmse\u001b[0m \u001b[0;34m=\u001b[0m \u001b[0mnp\u001b[0m\u001b[0;34m.\u001b[0m\u001b[0msqrt\u001b[0m\u001b[0;34m(\u001b[0m\u001b[0mmean_squared_error\u001b[0m\u001b[0;34m(\u001b[0m\u001b[0my_test\u001b[0m\u001b[0;34m,\u001b[0m\u001b[0mnew_preds\u001b[0m\u001b[0;34m)\u001b[0m\u001b[0;34m)\u001b[0m\u001b[0;34m\u001b[0m\u001b[0m\n\u001b[1;32m      3\u001b[0m \u001b[0mprint\u001b[0m\u001b[0;34m(\u001b[0m\u001b[0;34m\"RMSE: %f\"\u001b[0m \u001b[0;34m%\u001b[0m \u001b[0;34m(\u001b[0m\u001b[0mnew_rmse\u001b[0m\u001b[0;34m)\u001b[0m\u001b[0;34m)\u001b[0m\u001b[0;34m\u001b[0m\u001b[0m\n",
            "\u001b[0;32m/usr/local/lib/python3.6/dist-packages/pandas/core/generic.py\u001b[0m in \u001b[0;36m__getattr__\u001b[0;34m(self, name)\u001b[0m\n\u001b[1;32m   3612\u001b[0m             \u001b[0;32mif\u001b[0m \u001b[0mname\u001b[0m \u001b[0;32min\u001b[0m \u001b[0mself\u001b[0m\u001b[0;34m.\u001b[0m\u001b[0m_info_axis\u001b[0m\u001b[0;34m:\u001b[0m\u001b[0;34m\u001b[0m\u001b[0m\n\u001b[1;32m   3613\u001b[0m                 \u001b[0;32mreturn\u001b[0m \u001b[0mself\u001b[0m\u001b[0;34m[\u001b[0m\u001b[0mname\u001b[0m\u001b[0;34m]\u001b[0m\u001b[0;34m\u001b[0m\u001b[0m\n\u001b[0;32m-> 3614\u001b[0;31m             \u001b[0;32mreturn\u001b[0m \u001b[0mobject\u001b[0m\u001b[0;34m.\u001b[0m\u001b[0m__getattribute__\u001b[0m\u001b[0;34m(\u001b[0m\u001b[0mself\u001b[0m\u001b[0;34m,\u001b[0m \u001b[0mname\u001b[0m\u001b[0;34m)\u001b[0m\u001b[0;34m\u001b[0m\u001b[0m\n\u001b[0m\u001b[1;32m   3615\u001b[0m \u001b[0;34m\u001b[0m\u001b[0m\n\u001b[1;32m   3616\u001b[0m     \u001b[0;32mdef\u001b[0m \u001b[0m__setattr__\u001b[0m\u001b[0;34m(\u001b[0m\u001b[0mself\u001b[0m\u001b[0;34m,\u001b[0m \u001b[0mname\u001b[0m\u001b[0;34m,\u001b[0m \u001b[0mvalue\u001b[0m\u001b[0;34m)\u001b[0m\u001b[0;34m:\u001b[0m\u001b[0;34m\u001b[0m\u001b[0m\n",
            "\u001b[0;31mAttributeError\u001b[0m: 'DataFrame' object has no attribute 'predict'"
          ]
        }
      ]
    },
    {
      "metadata": {
        "id": "pSucj9UhC-4l",
        "colab_type": "text"
      },
      "cell_type": "markdown",
      "source": [
        "#Tuning XGB"
      ]
    },
    {
      "metadata": {
        "id": "kcVNfBA0C-Ks",
        "colab_type": "code",
        "colab": {}
      },
      "cell_type": "code",
      "source": [
        ""
      ],
      "execution_count": 0,
      "outputs": []
    },
    {
      "metadata": {
        "id": "ZxdTiIP0-TbS",
        "colab_type": "code",
        "colab": {
          "base_uri": "https://localhost:8080/",
          "height": 163
        },
        "outputId": "4633e954-3f60-4d51-bd72-9f3ab1448094"
      },
      "cell_type": "code",
      "source": [
        "print(\"\\nSetting up data for XGBoost ...\")\n",
        "# xgboost params\n",
        "xgb_params = {\n",
        "    #'eta': 0.037,\n",
        "    'max_depth': 5,\n",
        "    'subsample': 0.80,\n",
        "    'objective': 'reg:linear',\n",
        "    #'eval_metric': 'mae',\n",
        "    #'lambda': 0.8,   \n",
        "    #'alpha': 0.4, \n",
        "    #'silent': 1\n",
        "}\n",
        "\n",
        "# AttributeError: module 'xgboost' has no attribute 'DMatrix'\n",
        "dtrain = xgb.DMatrix(X_train, y_train)\n",
        "dtest = xgb.DMatrix(X_test)\n",
        "\n",
        "num_boost_rounds = 150\n",
        "print(\"num_boost_rounds=\"+str(num_boost_rounds))\n",
        "\n",
        "# train model\n",
        "print( \"\\nTraining XGBoost ...\")\n",
        "model = xgb.train(dict(xgb_params, silent=1), dtrain, \n",
        "num_boost_round=num_boost_rounds)\n",
        "\n",
        "print( \"\\nPredicting with XGBoost ...\")\n",
        "xg_preds = model.predict(dtest)\n",
        "\n",
        "rmse = np.sqrt(mean_squared_error(y_test,xg_preds))\n",
        "print(\"RMSE: %f\" % (rmse))"
      ],
      "execution_count": 89,
      "outputs": [
        {
          "output_type": "stream",
          "text": [
            "\n",
            "Setting up data for XGBoost ...\n",
            "num_boost_rounds=150\n",
            "\n",
            "Training XGBoost ...\n",
            "\n",
            "Predicting with XGBoost ...\n",
            "RMSE: 1459.252458\n"
          ],
          "name": "stdout"
        }
      ]
    },
    {
      "metadata": {
        "id": "ncSD_R3kAdri",
        "colab_type": "code",
        "colab": {
          "base_uri": "https://localhost:8080/",
          "height": 145
        },
        "outputId": "c42e08f2-eaa1-470f-9b1e-652aa3ba177b"
      },
      "cell_type": "code",
      "source": [
        "print(\"\\nSetting up data for XGBoost ...\")\n",
        "# xgboost params\n",
        "xgb_params = {\n",
        "    #'eta': 0.037,\n",
        "    'max_depth': 5,\n",
        "    'subsample': 0.80,\n",
        "    'objective': 'reg:linear',\n",
        "    #'eval_metric': 'mae',\n",
        "    #'lambda': 0.8,   \n",
        "    #'alpha': 0.4, \n",
        "    #'silent': 1\n",
        "}\n",
        "\n",
        "# AttributeError: module 'xgboost' has no attribute 'DMatrix'\n",
        "dtrain = xgb.DMatrix(X_train, y_train)\n",
        "dtest = xgb.DMatrix(test)\n",
        "\n",
        "num_boost_rounds = 150\n",
        "print(\"num_boost_rounds=\"+str(num_boost_rounds))\n",
        "\n",
        "# train model\n",
        "print( \"\\nTraining XGBoost ...\")\n",
        "model = xgb.train(dict(xgb_params, silent=1), dtrain, \n",
        "num_boost_round=num_boost_rounds)\n",
        "\n",
        "print( \"\\nPredicting with XGBoost ...\")\n",
        "preds = model.predict(dtest)"
      ],
      "execution_count": 90,
      "outputs": [
        {
          "output_type": "stream",
          "text": [
            "\n",
            "Setting up data for XGBoost ...\n",
            "num_boost_rounds=150\n",
            "\n",
            "Training XGBoost ...\n",
            "\n",
            "Predicting with XGBoost ...\n"
          ],
          "name": "stdout"
        }
      ]
    },
    {
      "metadata": {
        "id": "KaSppBcJGPG5",
        "colab_type": "code",
        "colab": {}
      },
      "cell_type": "code",
      "source": [
        "\n",
        "\n",
        "submission = pd.DataFrame({'ID':ID, 'Upvotes':preds})\n"
      ],
      "execution_count": 0,
      "outputs": []
    },
    {
      "metadata": {
        "id": "hZwAeL4DGpeH",
        "colab_type": "code",
        "colab": {}
      },
      "cell_type": "code",
      "source": [
        "submission.to_csv('enigma_sub_3.csv', index=False)\n",
        "from google.colab import files \n",
        "files.download('enigma_sub_3.csv')"
      ],
      "execution_count": 0,
      "outputs": []
    },
    {
      "metadata": {
        "id": "VKw5yL2nGsah",
        "colab_type": "code",
        "colab": {}
      },
      "cell_type": "code",
      "source": [
        ""
      ],
      "execution_count": 0,
      "outputs": []
    },
    {
      "metadata": {
        "id": "OkE_fW9NSux2",
        "colab_type": "text"
      },
      "cell_type": "markdown",
      "source": [
        "# Grid Search CV on split\n"
      ]
    },
    {
      "metadata": {
        "id": "r4HVOyJ_S0Z1",
        "colab_type": "code",
        "colab": {}
      },
      "cell_type": "code",
      "source": [
        "n_estimator = [10,20,30,40,50]\n",
        "\n",
        "params = {\n",
        "    \"objective\" : \"reg:linear\",\n",
        "    \"max_depth\" :  5\n",
        "}\n",
        "\n",
        "\n",
        "best_rmse = []\n",
        "    \n",
        "datamatrix = xgb.DMatrix(data=X_train, label=y_train)\n",
        "\n",
        "\n",
        "\n",
        "for depth in n_estimator:\n",
        "    clf = xgb.XGBRegressor()\n",
        "    params[\"n_estimators\"] = depth\n",
        "    cv_results = xgb.cv( dtrain=datamatrix, params = params, folds=4, num_boost_round = 10, metrics=\"rmse\", seed=123, as_pandas=True)\n",
        "    print(cv_results)\n",
        "    best_rmse.append(cv_results[\"test-rmse-mean\"].tail().values[-1])\n",
        "    \n",
        "#     clf.fit(final_data, final_label)\n",
        "\n",
        "#print(pd.DataFrame(list(zip(n_estimator, best_rmse)), columns=[\"n_estimator\",\"best_rmse\"]))"
      ],
      "execution_count": 0,
      "outputs": []
    },
    {
      "metadata": {
        "id": "ug16XxSpT0AL",
        "colab_type": "code",
        "colab": {
          "base_uri": "https://localhost:8080/",
          "height": 126
        },
        "outputId": "10a73472-fe6b-45fa-ac85-eaf3b4b5eeca"
      },
      "cell_type": "code",
      "source": [
        "clf.fit(X_train,y_train)"
      ],
      "execution_count": 92,
      "outputs": [
        {
          "output_type": "execute_result",
          "data": {
            "text/plain": [
              "XGBRegressor(base_score=0.5, booster='gbtree', colsample_bylevel=1,\n",
              "       colsample_bytree=1, gamma=0, learning_rate=0.1, max_delta_step=0,\n",
              "       max_depth=3, min_child_weight=1, missing=None, n_estimators=100,\n",
              "       n_jobs=1, nthread=None, objective='reg:linear', random_state=0,\n",
              "       reg_alpha=0, reg_lambda=1, scale_pos_weight=1, seed=None,\n",
              "       silent=True, subsample=1)"
            ]
          },
          "metadata": {
            "tags": []
          },
          "execution_count": 92
        }
      ]
    },
    {
      "metadata": {
        "id": "XC72JIP1Uca9",
        "colab_type": "code",
        "colab": {}
      },
      "cell_type": "code",
      "source": [
        "pred_cv=clf.predict(X_test)"
      ],
      "execution_count": 0,
      "outputs": []
    },
    {
      "metadata": {
        "id": "xbOdslsxUuXE",
        "colab_type": "code",
        "colab": {
          "base_uri": "https://localhost:8080/",
          "height": 35
        },
        "outputId": "ebb3c99a-daa0-4bad-b37e-115f640af3bc"
      },
      "cell_type": "code",
      "source": [
        "rmse_cv = np.sqrt(mean_squared_error(y_test,pred_cv))\n",
        "print(\"RMSE: %f\" % (rmse_cv))"
      ],
      "execution_count": 94,
      "outputs": [
        {
          "output_type": "stream",
          "text": [
            "RMSE: 1312.345934\n"
          ],
          "name": "stdout"
        }
      ]
    },
    {
      "metadata": {
        "id": "m5L8e2HtVcfx",
        "colab_type": "text"
      },
      "cell_type": "markdown",
      "source": [
        "# Grid Search On actual"
      ]
    },
    {
      "metadata": {
        "id": "iBlBa7dvVEno",
        "colab_type": "code",
        "colab": {}
      },
      "cell_type": "code",
      "source": [
        "n_estimator = [10,20,30,40,50]\n",
        "\n",
        "params = {\n",
        "    \"objective\" : \"reg:linear\",\n",
        "    \"max_depth\" :  5\n",
        "}\n",
        "\n",
        "\n",
        "best_rmse = []\n",
        "    \n",
        "datamatrix = xgb.DMatrix(data=X, label=y)\n",
        "\n",
        "\n",
        "\n",
        "for depth in n_estimator:\n",
        "    clf = xgb.XGBRegressor()\n",
        "    params[\"n_estimators\"] = depth\n",
        "    cv_results = xgb.cv( dtrain=datamatrix, params = params, folds=7, num_boost_round = 20, metrics=\"rmse\", seed=123, as_pandas=True)\n",
        "    #print(cv_results)\n",
        "    #best_rmse.append(cv_results[\"test-rmse-mean\"].tail().values[-1])\n",
        "    \n",
        "clf.fit(X,y)\n",
        "\n",
        "#print(pd.DataFrame(list(zip(n_estimator, best_rmse)), columns=[\"n_estimator\",\"best_rmse\"]))\n",
        "\n",
        "predictions=clf.predict(test)"
      ],
      "execution_count": 0,
      "outputs": []
    },
    {
      "metadata": {
        "id": "-QnK5QuBXp8l",
        "colab_type": "code",
        "colab": {}
      },
      "cell_type": "code",
      "source": [
        "submission_gscv = pd.DataFrame({'ID':ID, 'Upvotes':predictions})"
      ],
      "execution_count": 0,
      "outputs": []
    },
    {
      "metadata": {
        "id": "Jk-EjN7bW4j4",
        "colab_type": "code",
        "colab": {}
      },
      "cell_type": "code",
      "source": [
        "submission_gscv.to_csv('enigma_sub_6.csv', index=False)\n",
        "from google.colab import files \n",
        "files.download('enigma_sub_6.csv')"
      ],
      "execution_count": 0,
      "outputs": []
    },
    {
      "metadata": {
        "id": "hbWRL9F2-En6",
        "colab_type": "text"
      },
      "cell_type": "markdown",
      "source": [
        "# Grid Search again"
      ]
    },
    {
      "metadata": {
        "id": "HQGbUxAG-ctD",
        "colab_type": "code",
        "colab": {
          "base_uri": "https://localhost:8080/",
          "height": 110
        },
        "outputId": "cbe5640a-76b0-47eb-8b27-bf2e90f603fd"
      },
      "cell_type": "code",
      "source": [
        "xgb1 = XGBRegressor()\n",
        "parameters = {'objective':['reg:linear'],\n",
        "              'learning_rate': [.03,0.05,0.7], #so called `eta` value\n",
        "              'max_depth': [5,6,7],\n",
        "              'min_child_weight': [4],\n",
        "              'silent': [1],\n",
        "              'subsample': [0.7],\n",
        "              'colsample_bytree': [0.7],\n",
        "              'n_estimators': [500]}\n",
        "\n",
        "\n",
        "\n",
        "\n",
        "xgb_grid = GridSearchCV(xgb1,\n",
        "                        parameters,\n",
        "                        cv = 2,\n",
        "                        n_jobs = 5,\n",
        "                        verbose=True)\n",
        "\n",
        "xgb_grid.fit(X_train,\n",
        "         y_train)\n",
        "\n",
        "print(xgb_grid.best_score_)\n",
        "print(xgb_grid.best_params_)"
      ],
      "execution_count": 126,
      "outputs": [
        {
          "output_type": "stream",
          "text": [
            "Fitting 2 folds for each of 9 candidates, totalling 18 fits\n"
          ],
          "name": "stdout"
        },
        {
          "output_type": "stream",
          "text": [
            "[Parallel(n_jobs=5)]: Done  18 out of  18 | elapsed: 13.5min finished\n"
          ],
          "name": "stderr"
        },
        {
          "output_type": "stream",
          "text": [
            "0.8457312128052629\n",
            "{'colsample_bytree': 0.7, 'learning_rate': 0.05, 'max_depth': 5, 'min_child_weight': 4, 'n_estimators': 500, 'objective': 'reg:linear', 'silent': 1, 'subsample': 0.7}\n"
          ],
          "name": "stdout"
        }
      ]
    },
    {
      "metadata": {
        "id": "LI5mHgbq_BXd",
        "colab_type": "code",
        "colab": {}
      },
      "cell_type": "code",
      "source": [
        "xgb_preds=xgb_grid.predict(X_test)"
      ],
      "execution_count": 0,
      "outputs": []
    },
    {
      "metadata": {
        "id": "Zh_y7c8nHRX2",
        "colab_type": "code",
        "colab": {
          "base_uri": "https://localhost:8080/",
          "height": 35
        },
        "outputId": "d5e0ee98-6186-4b80-b29c-c22676a62d22"
      },
      "cell_type": "code",
      "source": [
        "rmse_xgb = np.sqrt(mean_squared_error(y_test,xgb_preds))\n",
        "print(\"RMSE: %f\" % (rmse_xgb))"
      ],
      "execution_count": 128,
      "outputs": [
        {
          "output_type": "stream",
          "text": [
            "RMSE: 1363.088478\n"
          ],
          "name": "stdout"
        }
      ]
    },
    {
      "metadata": {
        "id": "E8VpENTRNEJ9",
        "colab_type": "text"
      },
      "cell_type": "markdown",
      "source": [
        "# RANDOM FOREST"
      ]
    },
    {
      "metadata": {
        "id": "ZdBMFiRmHeS6",
        "colab_type": "code",
        "colab": {}
      },
      "cell_type": "code",
      "source": [
        "from sklearn.ensemble import RandomForestRegressor\n",
        "from sklearn.preprocessing import StandardScaler\n"
      ],
      "execution_count": 0,
      "outputs": []
    },
    {
      "metadata": {
        "id": "TuyptNl6Odh2",
        "colab_type": "code",
        "colab": {
          "base_uri": "https://localhost:8080/",
          "height": 126
        },
        "outputId": "d5946938-a30f-42aa-8069-19ac4370fa4c"
      },
      "cell_type": "code",
      "source": [
        "model = RandomForestRegressor(n_jobs=-1)\n",
        "\n",
        "\n",
        "estimators = np.arange(10, 200, 10)\n",
        "#scores = []\n",
        "for n in estimators:\n",
        "    model.set_params(n_estimators=n)\n",
        "    model.fit(X_train, y_train)\n",
        "    preds_rd=model.predict(X_test)\n",
        "    rmse_rd = np.sqrt(mean_squared_error(y_test,preds_rd))\n",
        "    print(\"RMSE: %f\" % (rmse_rd))\n",
        "    #scores.append(model.score(X_test, y_test))\n",
        "\n"
      ],
      "execution_count": 0,
      "outputs": [
        {
          "output_type": "stream",
          "text": [
            "RMSE: 1374.363785\n",
            "RMSE: 1312.730933\n",
            "RMSE: 1248.364607\n",
            "RMSE: 1275.858462\n",
            "RMSE: 1276.056214\n",
            "RMSE: 1318.877931\n"
          ],
          "name": "stdout"
        }
      ]
    },
    {
      "metadata": {
        "id": "Volbjsn2P4Df",
        "colab_type": "code",
        "colab": {}
      },
      "cell_type": "code",
      "source": [
        ""
      ],
      "execution_count": 0,
      "outputs": []
    }
  ]
}